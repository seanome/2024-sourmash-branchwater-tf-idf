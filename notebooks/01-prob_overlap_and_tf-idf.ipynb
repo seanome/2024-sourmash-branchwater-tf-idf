{
 "cells": [
  {
   "cell_type": "code",
   "execution_count": 2,
   "id": "eb03eb31-74cb-4487-8bfb-23472299d32a",
   "metadata": {},
   "outputs": [],
   "source": [
    "import itertools\n",
    "\n",
    "import numpy as np\n",
    "import pandas as pd\n",
    "import seaborn as sns\n",
    "from sklearn.feature_extraction.text import (\n",
    "    CountVectorizer,\n",
    "    TfidfTransformer,\n",
    "    TfidfVectorizer,\n",
    ")\n",
    "from sklearn.metrics.pairwise import cosine_similarity\n",
    "\n",
    "import sourmash"
   ]
  },
  {
   "cell_type": "markdown",
   "id": "1f5b9b51-d7cf-47cd-9dc7-0ba313c7c84f",
   "metadata": {},
   "source": [
    "## Read in data"
   ]
  },
  {
   "cell_type": "code",
   "execution_count": 3,
   "id": "b9808dba-db3b-48e8-b1b7-fd766aacd655",
   "metadata": {},
   "outputs": [],
   "source": [
    "testdata = \"../testdata\""
   ]
  },
  {
   "cell_type": "code",
   "execution_count": 4,
   "id": "e83e93b0-0ac0-44b4-9999-3ce5546bee23",
   "metadata": {},
   "outputs": [
    {
     "name": "stdout",
     "output_type": "stream",
     "text": [
      "sig.minhash.track_abundance: False\n"
     ]
    },
    {
     "name": "stderr",
     "output_type": "stream",
     "text": [
      "/tmp/ipykernel_7464/646302664.py:2: DeprecatedWarning: load_one_signature is deprecated as of 4.8.9 and will be removed in 5.0. Use load_file_as_signatures instead.\n",
      "  sig = sourmash.load_one_signature(sigfile)\n",
      "/tmp/ipykernel_7464/646302664.py:4: DeprecatedWarning: get_mins is deprecated as of 3.5 and will be removed in 5.0. Use .hashes property instead.\n",
      "  hashes = pd.Series(sig.minhash.get_mins(with_abundance=True), name=sig.name)\n"
     ]
    },
    {
     "data": {
      "text/plain": [
       "10798666575355       1\n",
       "11108262945072       1\n",
       "17191644621368       1\n",
       "17302105753387       1\n",
       "30946781515590       1\n",
       "                    ..\n",
       "18424308230534323    1\n",
       "18425171082440467    1\n",
       "18428501249114229    1\n",
       "18433230873697864    1\n",
       "18438187128864941    1\n",
       "Name: CP001071.1 Akkermansia muciniphila ATCC BAA-835, complete genome, Length: 2701, dtype: int64"
      ]
     },
     "execution_count": 4,
     "metadata": {},
     "output_type": "execute_result"
    }
   ],
   "source": [
    "def make_hashval_series(sigfile):\n",
    "    sig = sourmash.load_one_signature(sigfile)\n",
    "    print(f\"sig.minhash.track_abundance: {sig.minhash.track_abundance}\")\n",
    "    hashes = pd.Series(sig.minhash.get_mins(with_abundance=True), name=sig.name)\n",
    "    return hashes\n",
    "\n",
    "\n",
    "kmers_2 = make_hashval_series(f\"{testdata}/2.fa.sig.gz\")\n",
    "kmers_2"
   ]
  },
  {
   "cell_type": "code",
   "execution_count": 5,
   "id": "374e8634-19bf-47ba-a3e1-bd715006fb40",
   "metadata": {},
   "outputs": [
    {
     "name": "stdout",
     "output_type": "stream",
     "text": [
      "sig.minhash.track_abundance: False\n"
     ]
    },
    {
     "name": "stderr",
     "output_type": "stream",
     "text": [
      "/tmp/ipykernel_7464/646302664.py:2: DeprecatedWarning: load_one_signature is deprecated as of 4.8.9 and will be removed in 5.0. Use load_file_as_signatures instead.\n",
      "  sig = sourmash.load_one_signature(sigfile)\n",
      "/tmp/ipykernel_7464/646302664.py:4: DeprecatedWarning: get_mins is deprecated as of 3.5 and will be removed in 5.0. Use .hashes property instead.\n",
      "  hashes = pd.Series(sig.minhash.get_mins(with_abundance=True), name=sig.name)\n"
     ]
    },
    {
     "data": {
      "text/plain": [
       "2925290528259        1\n",
       "7397951382043        1\n",
       "9478766578752        1\n",
       "26390034908046       1\n",
       "31811219567311       1\n",
       "                    ..\n",
       "18438159643459969    1\n",
       "18440518503779835    1\n",
       "18441289041766013    1\n",
       "18444487060015322    1\n",
       "18444666364288446    1\n",
       "Name: NC_009661.1 Shewanella baltica OS185 plasmid pS18501, complete sequence, Length: 5177, dtype: int64"
      ]
     },
     "execution_count": 5,
     "metadata": {},
     "output_type": "execute_result"
    }
   ],
   "source": [
    "kmers_47 = make_hashval_series(f\"{testdata}/47.fa.sig.gz\")\n",
    "kmers_47"
   ]
  },
  {
   "cell_type": "code",
   "execution_count": 6,
   "id": "a4480695-6326-4293-af29-639460d8aabf",
   "metadata": {},
   "outputs": [
    {
     "name": "stdout",
     "output_type": "stream",
     "text": [
      "sig.minhash.track_abundance: False\n"
     ]
    },
    {
     "name": "stderr",
     "output_type": "stream",
     "text": [
      "/tmp/ipykernel_7464/646302664.py:2: DeprecatedWarning: load_one_signature is deprecated as of 4.8.9 and will be removed in 5.0. Use load_file_as_signatures instead.\n",
      "  sig = sourmash.load_one_signature(sigfile)\n",
      "/tmp/ipykernel_7464/646302664.py:4: DeprecatedWarning: get_mins is deprecated as of 3.5 and will be removed in 5.0. Use .hashes property instead.\n",
      "  hashes = pd.Series(sig.minhash.get_mins(with_abundance=True), name=sig.name)\n"
     ]
    },
    {
     "data": {
      "text/plain": [
       "2925290528259        1\n",
       "4550472317399        1\n",
       "7397951382043        1\n",
       "13950946236093       1\n",
       "18944997319943       1\n",
       "                    ..\n",
       "18435861506577465    1\n",
       "18437428333588590    1\n",
       "18438159643459969    1\n",
       "18444487060015322    1\n",
       "18444666364288446    1\n",
       "Name: NC_011665.1 Shewanella baltica OS223 plasmid pS22303, complete sequence, Length: 5238, dtype: int64"
      ]
     },
     "execution_count": 6,
     "metadata": {},
     "output_type": "execute_result"
    }
   ],
   "source": [
    "kmers_63 = make_hashval_series(f\"{testdata}/63.fa.sig.gz\")\n",
    "kmers_63"
   ]
  },
  {
   "cell_type": "code",
   "execution_count": 7,
   "id": "c21fad9f-88ff-4807-a500-628bd746c067",
   "metadata": {},
   "outputs": [
    {
     "data": {
      "text/plain": [
       "NC_011665.1 Shewanella baltica OS223 plasmid pS22303, complete sequence\n",
       "1    5238\n",
       "Name: count, dtype: int64"
      ]
     },
     "execution_count": 7,
     "metadata": {},
     "output_type": "execute_result"
    }
   ],
   "source": [
    "kmers_63.value_counts()"
   ]
  },
  {
   "cell_type": "code",
   "execution_count": 8,
   "id": "bd1adb92-98ac-4e02-9a71-3aae5a0feea4",
   "metadata": {},
   "outputs": [
    {
     "data": {
      "text/plain": [
       "NC_009661.1 Shewanella baltica OS185 plasmid pS18501, complete sequence\n",
       "1    5177\n",
       "Name: count, dtype: int64"
      ]
     },
     "execution_count": 8,
     "metadata": {},
     "output_type": "execute_result"
    }
   ],
   "source": [
    "kmers_47.value_counts()"
   ]
  },
  {
   "cell_type": "code",
   "execution_count": 9,
   "id": "c348be47-a335-4bb9-b974-8e69c4259f08",
   "metadata": {},
   "outputs": [
    {
     "data": {
      "text/plain": [
       "CP001071.1 Akkermansia muciniphila ATCC BAA-835, complete genome\n",
       "1    2701\n",
       "Name: count, dtype: int64"
      ]
     },
     "execution_count": 9,
     "metadata": {},
     "output_type": "execute_result"
    }
   ],
   "source": [
    "kmers_2.value_counts()"
   ]
  },
  {
   "cell_type": "code",
   "execution_count": 10,
   "id": "ee7b6bc3-25e9-461d-b4bc-8e4a38c408f4",
   "metadata": {},
   "outputs": [],
   "source": [
    "corpus = [\n",
    "    \" \".join(map(str, kmers_2.index)),\n",
    "    \" \".join(map(str, kmers_47.index)),\n",
    "    \" \".join(map(str, kmers_63.index)),\n",
    "]"
   ]
  },
  {
   "cell_type": "code",
   "execution_count": 11,
   "id": "16b1a368-3581-4c82-9098-777036a2ff9a",
   "metadata": {},
   "outputs": [],
   "source": [
    "sample_names = [\n",
    "    # 2.fa.sig.gz\n",
    "    \"CP001071.1\",\n",
    "    # 47.fa.sig.gz\n",
    "    \"NC_009661.1\",\n",
    "    # 63.fa.sig.gz\n",
    "    \"NC_011665.1\",\n",
    "]"
   ]
  },
  {
   "cell_type": "code",
   "execution_count": 12,
   "id": "4d5f0e6f-72fe-4f80-a6d7-a552fd63addc",
   "metadata": {},
   "outputs": [
    {
     "data": {
      "text/plain": [
       "<Compressed Sparse Row sparse matrix of dtype 'int64'\n",
       "\twith 13116 stored elements and shape (3, 10587)>"
      ]
     },
     "execution_count": 12,
     "metadata": {},
     "output_type": "execute_result"
    }
   ],
   "source": [
    "count_vectorizer = CountVectorizer()\n",
    "X_counts = count_vectorizer.fit_transform(corpus)\n",
    "X_counts"
   ]
  },
  {
   "cell_type": "code",
   "execution_count": null,
   "id": "ef9a95ff-6343-4ed4-93e8-7ed1acd731d8",
   "metadata": {},
   "outputs": [],
   "source": []
  },
  {
   "cell_type": "code",
   "execution_count": 13,
   "id": "799bc0c3-d48d-4fb1-9c41-8881e62a9875",
   "metadata": {},
   "outputs": [
    {
     "data": {
      "text/html": [
       "<div>\n",
       "<style scoped>\n",
       "    .dataframe tbody tr th:only-of-type {\n",
       "        vertical-align: middle;\n",
       "    }\n",
       "\n",
       "    .dataframe tbody tr th {\n",
       "        vertical-align: top;\n",
       "    }\n",
       "\n",
       "    .dataframe thead th {\n",
       "        text-align: right;\n",
       "    }\n",
       "</style>\n",
       "<table border=\"1\" class=\"dataframe\">\n",
       "  <thead>\n",
       "    <tr style=\"text-align: right;\">\n",
       "      <th></th>\n",
       "      <th>CP001071.1</th>\n",
       "      <th>NC_009661.1</th>\n",
       "      <th>NC_011665.1</th>\n",
       "    </tr>\n",
       "  </thead>\n",
       "  <tbody>\n",
       "    <tr>\n",
       "      <th>10000031604968879</th>\n",
       "      <td>0</td>\n",
       "      <td>1</td>\n",
       "      <td>1</td>\n",
       "    </tr>\n",
       "    <tr>\n",
       "      <th>10001967542883816</th>\n",
       "      <td>0</td>\n",
       "      <td>0</td>\n",
       "      <td>1</td>\n",
       "    </tr>\n",
       "    <tr>\n",
       "      <th>10002844747369936</th>\n",
       "      <td>0</td>\n",
       "      <td>1</td>\n",
       "      <td>0</td>\n",
       "    </tr>\n",
       "    <tr>\n",
       "      <th>10003635611094380</th>\n",
       "      <td>1</td>\n",
       "      <td>0</td>\n",
       "      <td>0</td>\n",
       "    </tr>\n",
       "    <tr>\n",
       "      <th>10004355354687945</th>\n",
       "      <td>0</td>\n",
       "      <td>0</td>\n",
       "      <td>1</td>\n",
       "    </tr>\n",
       "    <tr>\n",
       "      <th>...</th>\n",
       "      <td>...</td>\n",
       "      <td>...</td>\n",
       "      <td>...</td>\n",
       "    </tr>\n",
       "    <tr>\n",
       "      <th>9994065414699288</th>\n",
       "      <td>0</td>\n",
       "      <td>0</td>\n",
       "      <td>1</td>\n",
       "    </tr>\n",
       "    <tr>\n",
       "      <th>9994394125866496</th>\n",
       "      <td>0</td>\n",
       "      <td>1</td>\n",
       "      <td>1</td>\n",
       "    </tr>\n",
       "    <tr>\n",
       "      <th>9994816441327197</th>\n",
       "      <td>1</td>\n",
       "      <td>0</td>\n",
       "      <td>0</td>\n",
       "    </tr>\n",
       "    <tr>\n",
       "      <th>9997181429474537</th>\n",
       "      <td>0</td>\n",
       "      <td>0</td>\n",
       "      <td>1</td>\n",
       "    </tr>\n",
       "    <tr>\n",
       "      <th>9999648366321789</th>\n",
       "      <td>0</td>\n",
       "      <td>1</td>\n",
       "      <td>1</td>\n",
       "    </tr>\n",
       "  </tbody>\n",
       "</table>\n",
       "<p>10587 rows × 3 columns</p>\n",
       "</div>"
      ],
      "text/plain": [
       "                   CP001071.1  NC_009661.1  NC_011665.1\n",
       "10000031604968879           0            1            1\n",
       "10001967542883816           0            0            1\n",
       "10002844747369936           0            1            0\n",
       "10003635611094380           1            0            0\n",
       "10004355354687945           0            0            1\n",
       "...                       ...          ...          ...\n",
       "9994065414699288            0            0            1\n",
       "9994394125866496            0            1            1\n",
       "9994816441327197            1            0            0\n",
       "9997181429474537            0            0            1\n",
       "9999648366321789            0            1            1\n",
       "\n",
       "[10587 rows x 3 columns]"
      ]
     },
     "execution_count": 13,
     "metadata": {},
     "output_type": "execute_result"
    }
   ],
   "source": [
    "query_counts = pd.DataFrame(\n",
    "    X_counts.todense(),\n",
    "    columns=count_vectorizer.get_feature_names_out(),\n",
    "    index=sample_names,\n",
    ").T\n",
    "query_counts"
   ]
  },
  {
   "cell_type": "code",
   "execution_count": 14,
   "id": "256bbef2-532a-480a-bc4d-183a217360fc",
   "metadata": {},
   "outputs": [
    {
     "data": {
      "text/html": [
       "<div>\n",
       "<style scoped>\n",
       "    .dataframe tbody tr th:only-of-type {\n",
       "        vertical-align: middle;\n",
       "    }\n",
       "\n",
       "    .dataframe tbody tr th {\n",
       "        vertical-align: top;\n",
       "    }\n",
       "\n",
       "    .dataframe thead th {\n",
       "        text-align: right;\n",
       "    }\n",
       "</style>\n",
       "<table border=\"1\" class=\"dataframe\">\n",
       "  <thead>\n",
       "    <tr style=\"text-align: right;\">\n",
       "      <th></th>\n",
       "      <th>CP001071.1</th>\n",
       "      <th>NC_009661.1</th>\n",
       "      <th>NC_011665.1</th>\n",
       "    </tr>\n",
       "  </thead>\n",
       "  <tbody>\n",
       "    <tr>\n",
       "      <th>10000031604968879</th>\n",
       "      <td>0.00000</td>\n",
       "      <td>0.000193</td>\n",
       "      <td>0.000191</td>\n",
       "    </tr>\n",
       "    <tr>\n",
       "      <th>10001967542883816</th>\n",
       "      <td>0.00000</td>\n",
       "      <td>0.000000</td>\n",
       "      <td>0.000191</td>\n",
       "    </tr>\n",
       "    <tr>\n",
       "      <th>10002844747369936</th>\n",
       "      <td>0.00000</td>\n",
       "      <td>0.000193</td>\n",
       "      <td>0.000000</td>\n",
       "    </tr>\n",
       "    <tr>\n",
       "      <th>10003635611094380</th>\n",
       "      <td>0.00037</td>\n",
       "      <td>0.000000</td>\n",
       "      <td>0.000000</td>\n",
       "    </tr>\n",
       "    <tr>\n",
       "      <th>10004355354687945</th>\n",
       "      <td>0.00000</td>\n",
       "      <td>0.000000</td>\n",
       "      <td>0.000191</td>\n",
       "    </tr>\n",
       "    <tr>\n",
       "      <th>...</th>\n",
       "      <td>...</td>\n",
       "      <td>...</td>\n",
       "      <td>...</td>\n",
       "    </tr>\n",
       "    <tr>\n",
       "      <th>9994065414699288</th>\n",
       "      <td>0.00000</td>\n",
       "      <td>0.000000</td>\n",
       "      <td>0.000191</td>\n",
       "    </tr>\n",
       "    <tr>\n",
       "      <th>9994394125866496</th>\n",
       "      <td>0.00000</td>\n",
       "      <td>0.000193</td>\n",
       "      <td>0.000191</td>\n",
       "    </tr>\n",
       "    <tr>\n",
       "      <th>9994816441327197</th>\n",
       "      <td>0.00037</td>\n",
       "      <td>0.000000</td>\n",
       "      <td>0.000000</td>\n",
       "    </tr>\n",
       "    <tr>\n",
       "      <th>9997181429474537</th>\n",
       "      <td>0.00000</td>\n",
       "      <td>0.000000</td>\n",
       "      <td>0.000191</td>\n",
       "    </tr>\n",
       "    <tr>\n",
       "      <th>9999648366321789</th>\n",
       "      <td>0.00000</td>\n",
       "      <td>0.000193</td>\n",
       "      <td>0.000191</td>\n",
       "    </tr>\n",
       "  </tbody>\n",
       "</table>\n",
       "<p>10587 rows × 3 columns</p>\n",
       "</div>"
      ],
      "text/plain": [
       "                   CP001071.1  NC_009661.1  NC_011665.1\n",
       "10000031604968879     0.00000     0.000193     0.000191\n",
       "10001967542883816     0.00000     0.000000     0.000191\n",
       "10002844747369936     0.00000     0.000193     0.000000\n",
       "10003635611094380     0.00037     0.000000     0.000000\n",
       "10004355354687945     0.00000     0.000000     0.000191\n",
       "...                       ...          ...          ...\n",
       "9994065414699288      0.00000     0.000000     0.000191\n",
       "9994394125866496      0.00000     0.000193     0.000191\n",
       "9994816441327197      0.00037     0.000000     0.000000\n",
       "9997181429474537      0.00000     0.000000     0.000191\n",
       "9999648366321789      0.00000     0.000193     0.000191\n",
       "\n",
       "[10587 rows x 3 columns]"
      ]
     },
     "execution_count": 14,
     "metadata": {},
     "output_type": "execute_result"
    }
   ],
   "source": [
    "query_frequencies = query_counts / query_counts.sum()\n",
    "query_frequencies"
   ]
  },
  {
   "cell_type": "code",
   "execution_count": 15,
   "id": "7052b350-1e31-49cd-a257-da2c2352f6ed",
   "metadata": {},
   "outputs": [
    {
     "data": {
      "text/plain": [
       "CP001071.1  NC_009661.1  NC_011665.1\n",
       "0.00000     0.000000     0.000191       2709\n",
       "0.00037     0.000000     0.000000       2701\n",
       "0.00000     0.000193     0.000000       2648\n",
       "                         0.000191       2529\n",
       "Name: count, dtype: int64"
      ]
     },
     "execution_count": 15,
     "metadata": {},
     "output_type": "execute_result"
    }
   ],
   "source": [
    "query_frequencies.value_counts()"
   ]
  },
  {
   "cell_type": "code",
   "execution_count": 16,
   "id": "76592d84-a6bf-45ad-a5cb-9cb5336deec0",
   "metadata": {},
   "outputs": [
    {
     "data": {
      "text/plain": [
       "CP001071.1     2701\n",
       "NC_009661.1    5177\n",
       "NC_011665.1    5238\n",
       "dtype: int64"
      ]
     },
     "execution_count": 16,
     "metadata": {},
     "output_type": "execute_result"
    }
   ],
   "source": [
    "query_counts.sum()"
   ]
  },
  {
   "cell_type": "code",
   "execution_count": 17,
   "id": "41a96ae7-d8d0-4cc2-9e02-11a373204d1a",
   "metadata": {},
   "outputs": [
    {
     "data": {
      "text/plain": [
       "10000031604968879    2\n",
       "10001967542883816    1\n",
       "10002844747369936    1\n",
       "10003635611094380    1\n",
       "10004355354687945    1\n",
       "                    ..\n",
       "9994065414699288     1\n",
       "9994394125866496     2\n",
       "9994816441327197     1\n",
       "9997181429474537     1\n",
       "9999648366321789     2\n",
       "Length: 10587, dtype: int64"
      ]
     },
     "execution_count": 17,
     "metadata": {},
     "output_type": "execute_result"
    }
   ],
   "source": [
    "against_counts = query_counts.sum(axis=1)\n",
    "against_counts"
   ]
  },
  {
   "cell_type": "code",
   "execution_count": 18,
   "id": "9e372fd0-f796-4064-85a2-9db187e71e5e",
   "metadata": {},
   "outputs": [
    {
     "data": {
      "text/plain": [
       "1    8058\n",
       "2    2529\n",
       "Name: count, dtype: int64"
      ]
     },
     "execution_count": 18,
     "metadata": {},
     "output_type": "execute_result"
    }
   ],
   "source": [
    "against_counts.value_counts()"
   ]
  },
  {
   "cell_type": "code",
   "execution_count": 19,
   "id": "47c43d0b-9728-487b-95f9-135e061777f7",
   "metadata": {},
   "outputs": [
    {
     "data": {
      "text/plain": [
       "10587"
      ]
     },
     "execution_count": 19,
     "metadata": {},
     "output_type": "execute_result"
    }
   ],
   "source": [
    "8058 + 2529"
   ]
  },
  {
   "cell_type": "code",
   "execution_count": 20,
   "id": "b9622906-44a6-4d5b-8de3-91e66188bc42",
   "metadata": {},
   "outputs": [
    {
     "data": {
      "text/plain": [
       "10000031604968879    1\n",
       "10001967542883816    1\n",
       "10002844747369936    1\n",
       "10003635611094380    1\n",
       "10004355354687945    1\n",
       "                    ..\n",
       "9994065414699288     1\n",
       "9994394125866496     1\n",
       "9994816441327197     1\n",
       "9997181429474537     1\n",
       "9999648366321789     1\n",
       "Length: 10587, dtype: int64"
      ]
     },
     "execution_count": 20,
     "metadata": {},
     "output_type": "execute_result"
    }
   ],
   "source": [
    "against_counts_binary = (against_counts > 0).astype(int)\n",
    "against_counts_binary"
   ]
  },
  {
   "cell_type": "code",
   "execution_count": 21,
   "id": "f51a8146-2a80-4f94-b525-971e4d233ff0",
   "metadata": {},
   "outputs": [
    {
     "data": {
      "text/plain": [
       "1    10587\n",
       "Name: count, dtype: int64"
      ]
     },
     "execution_count": 21,
     "metadata": {},
     "output_type": "execute_result"
    }
   ],
   "source": [
    "against_counts_binary.value_counts()"
   ]
  },
  {
   "cell_type": "code",
   "execution_count": 22,
   "id": "73a6c147-a61f-4203-83a6-ee90b0901dae",
   "metadata": {},
   "outputs": [
    {
     "data": {
      "text/plain": [
       "np.int64(13116)"
      ]
     },
     "execution_count": 22,
     "metadata": {},
     "output_type": "execute_result"
    }
   ],
   "source": [
    "against_counts.sum()"
   ]
  },
  {
   "cell_type": "code",
   "execution_count": 23,
   "id": "30986664-79e0-4773-9bc7-59fbc7ce5d03",
   "metadata": {},
   "outputs": [
    {
     "data": {
      "text/plain": [
       "10000031604968879    0.000094\n",
       "10001967542883816    0.000094\n",
       "10002844747369936    0.000094\n",
       "10003635611094380    0.000094\n",
       "10004355354687945    0.000094\n",
       "                       ...   \n",
       "9994065414699288     0.000094\n",
       "9994394125866496     0.000094\n",
       "9994816441327197     0.000094\n",
       "9997181429474537     0.000094\n",
       "9999648366321789     0.000094\n",
       "Length: 10587, dtype: float64"
      ]
     },
     "execution_count": 23,
     "metadata": {},
     "output_type": "execute_result"
    }
   ],
   "source": [
    "against_frequencies = against_counts_binary / against_counts_binary.sum()\n",
    "against_frequencies"
   ]
  },
  {
   "cell_type": "code",
   "execution_count": 24,
   "id": "cc84a194-7ace-486d-ae94-145c3d033505",
   "metadata": {},
   "outputs": [
    {
     "data": {
      "text/plain": [
       "0.000094    10587\n",
       "Name: count, dtype: int64"
      ]
     },
     "execution_count": 24,
     "metadata": {},
     "output_type": "execute_result"
    }
   ],
   "source": [
    "against_frequencies.value_counts()"
   ]
  },
  {
   "cell_type": "markdown",
   "id": "5aa2c062-81cf-4b97-a7bf-682b369dc1d2",
   "metadata": {},
   "source": [
    "## Compute Probability of Overlap for all comparisons"
   ]
  },
  {
   "cell_type": "code",
   "execution_count": 25,
   "id": "62be72dc-acc9-40da-a659-53389b965e5d",
   "metadata": {},
   "outputs": [
    {
     "data": {
      "text/plain": [
       "[('CP001071.1', 'CP001071.1'),\n",
       " ('CP001071.1', 'NC_009661.1'),\n",
       " ('CP001071.1', 'NC_011665.1'),\n",
       " ('NC_009661.1', 'CP001071.1'),\n",
       " ('NC_009661.1', 'NC_009661.1'),\n",
       " ('NC_009661.1', 'NC_011665.1'),\n",
       " ('NC_011665.1', 'CP001071.1'),\n",
       " ('NC_011665.1', 'NC_009661.1'),\n",
       " ('NC_011665.1', 'NC_011665.1')]"
      ]
     },
     "execution_count": 25,
     "metadata": {},
     "output_type": "execute_result"
    }
   ],
   "source": [
    "comparisons = list(itertools.product(sample_names, repeat=2))\n",
    "comparisons"
   ]
  },
  {
   "cell_type": "code",
   "execution_count": 26,
   "id": "26f34eae-e2af-4b94-9ec8-eded9e0987da",
   "metadata": {},
   "outputs": [
    {
     "name": "stdout",
     "output_type": "stream",
     "text": [
      "sample1\t\tsample2\t\tprob_overlap\tprob_overlap_adjusted\n",
      "CP001071.1\tCP001071.1\t2.41e-05\t0.00021688\n",
      "CP001071.1\tNC_009661.1\t0.00e+00\t0.00000000\n",
      "CP001071.1\tNC_011665.1\t0.00e+00\t0.00000000\n",
      "NC_009661.1\tCP001071.1\t0.00e+00\t0.00000000\n",
      "NC_009661.1\tNC_009661.1\t4.62e-05\t0.00041570\n",
      "NC_009661.1\tNC_011665.1\t2.26e-05\t0.00020307\n",
      "NC_011665.1\tCP001071.1\t0.00e+00\t0.00000000\n",
      "NC_011665.1\tNC_009661.1\t2.26e-05\t0.00020307\n",
      "NC_011665.1\tNC_011665.1\t4.67e-05\t0.00042059\n"
     ]
    }
   ],
   "source": [
    "def get_sample_hashes(df, sample):\n",
    "    return df.index[df[sample] > 0]\n",
    "\n",
    "\n",
    "n_comparisons = 9\n",
    "\n",
    "print(f\"sample1\\t\\tsample2\\t\\tprob_overlap\\tprob_overlap_adjusted\")\n",
    "\n",
    "for sample1, sample2 in comparisons:\n",
    "    hashes1 = get_sample_hashes(query_counts, sample1)\n",
    "    hashes2 = get_sample_hashes(query_counts, sample2)\n",
    "\n",
    "    prob1 = against_frequencies[hashes1]\n",
    "    prob2 = against_frequencies[hashes2]\n",
    "\n",
    "    prob_overlap = (prob1 * prob2).sum()\n",
    "    prob_overlap_adjusted = n_comparisons * prob_overlap\n",
    "    print(f\"{sample1}\\t{sample2}\\t{prob_overlap:.2e}\\t{prob_overlap_adjusted:.8f}\")"
   ]
  },
  {
   "cell_type": "markdown",
   "id": "89b281ca-34e1-4474-8ce8-3d79b400ab6d",
   "metadata": {},
   "source": [
    "# TF-IDF"
   ]
  },
  {
   "cell_type": "code",
   "execution_count": 27,
   "id": "d9b629b9-5baf-4832-a1dd-579bef4d7cce",
   "metadata": {},
   "outputs": [],
   "source": [
    "vectorizer = TfidfVectorizer(norm=None, smooth_idf=False, binary=True)\n",
    "X = vectorizer.fit_transform(corpus)"
   ]
  },
  {
   "cell_type": "code",
   "execution_count": 28,
   "id": "fb524dcc-c7af-4b27-8b84-6157a40a4e85",
   "metadata": {},
   "outputs": [
    {
     "data": {
      "text/plain": [
       "array(['10000031604968879', '10001967542883816', '10002844747369936', ...,\n",
       "       '9994816441327197', '9997181429474537', '9999648366321789'],\n",
       "      dtype=object)"
      ]
     },
     "execution_count": 28,
     "metadata": {},
     "output_type": "execute_result"
    }
   ],
   "source": [
    "vectorizer.get_feature_names_out()"
   ]
  },
  {
   "cell_type": "code",
   "execution_count": 29,
   "id": "2396ef6f-a0c9-4f4e-aedf-cf5d102bbd79",
   "metadata": {},
   "outputs": [
    {
     "data": {
      "text/plain": [
       "(10587,)"
      ]
     },
     "execution_count": 29,
     "metadata": {},
     "output_type": "execute_result"
    }
   ],
   "source": [
    "vectorizer.get_feature_names_out().shape"
   ]
  },
  {
   "cell_type": "code",
   "execution_count": 30,
   "id": "98c39060-5dac-406a-b03f-4111c30965a6",
   "metadata": {},
   "outputs": [
    {
     "data": {
      "text/plain": [
       "array([1.40546511, 2.09861229, 2.09861229, ..., 2.09861229, 2.09861229,\n",
       "       1.40546511])"
      ]
     },
     "execution_count": 30,
     "metadata": {},
     "output_type": "execute_result"
    }
   ],
   "source": [
    "vectorizer.idf_"
   ]
  },
  {
   "cell_type": "code",
   "execution_count": 31,
   "id": "6af19190-33dc-48de-a6fb-03d945be3c5d",
   "metadata": {},
   "outputs": [
    {
     "data": {
      "text/plain": [
       "10000031604968879    1.405465\n",
       "10001967542883816    2.098612\n",
       "10002844747369936    2.098612\n",
       "10003635611094380    2.098612\n",
       "10004355354687945    2.098612\n",
       "                       ...   \n",
       "9994065414699288     2.098612\n",
       "9994394125866496     1.405465\n",
       "9994816441327197     2.098612\n",
       "9997181429474537     2.098612\n",
       "9999648366321789     1.405465\n",
       "Name: idf_sklearn, Length: 10587, dtype: float64"
      ]
     },
     "execution_count": 31,
     "metadata": {},
     "output_type": "execute_result"
    }
   ],
   "source": [
    "idf_sklearn = pd.Series(\n",
    "    vectorizer.idf_, index=vectorizer.get_feature_names_out(), name=\"idf_sklearn\"\n",
    ")\n",
    "idf_sklearn"
   ]
  },
  {
   "cell_type": "code",
   "execution_count": 32,
   "id": "40a1af17-f110-424d-86dc-754b6bf9dfa7",
   "metadata": {},
   "outputs": [
    {
     "data": {
      "text/html": [
       "<div>\n",
       "<style scoped>\n",
       "    .dataframe tbody tr th:only-of-type {\n",
       "        vertical-align: middle;\n",
       "    }\n",
       "\n",
       "    .dataframe tbody tr th {\n",
       "        vertical-align: top;\n",
       "    }\n",
       "\n",
       "    .dataframe thead th {\n",
       "        text-align: right;\n",
       "    }\n",
       "</style>\n",
       "<table border=\"1\" class=\"dataframe\">\n",
       "  <thead>\n",
       "    <tr style=\"text-align: right;\">\n",
       "      <th></th>\n",
       "      <th>10000031604968879</th>\n",
       "      <th>10001967542883816</th>\n",
       "      <th>10002844747369936</th>\n",
       "      <th>10003635611094380</th>\n",
       "      <th>10004355354687945</th>\n",
       "      <th>10004720045874964</th>\n",
       "      <th>10004753411179897</th>\n",
       "      <th>10004925495910091</th>\n",
       "      <th>10008184940193864</th>\n",
       "      <th>10008461597296659</th>\n",
       "      <th>...</th>\n",
       "      <th>998926194132937</th>\n",
       "      <th>9989307766906661</th>\n",
       "      <th>9990139941134371</th>\n",
       "      <th>9992012151567792</th>\n",
       "      <th>9992489863586669</th>\n",
       "      <th>9994065414699288</th>\n",
       "      <th>9994394125866496</th>\n",
       "      <th>9994816441327197</th>\n",
       "      <th>9997181429474537</th>\n",
       "      <th>9999648366321789</th>\n",
       "    </tr>\n",
       "  </thead>\n",
       "  <tbody>\n",
       "    <tr>\n",
       "      <th>CP001071.1</th>\n",
       "      <td>0.000000</td>\n",
       "      <td>0.000000</td>\n",
       "      <td>0.000000</td>\n",
       "      <td>2.098612</td>\n",
       "      <td>0.000000</td>\n",
       "      <td>2.098612</td>\n",
       "      <td>0.000000</td>\n",
       "      <td>0.000000</td>\n",
       "      <td>0.000000</td>\n",
       "      <td>0.000000</td>\n",
       "      <td>...</td>\n",
       "      <td>0.000000</td>\n",
       "      <td>0.000000</td>\n",
       "      <td>2.098612</td>\n",
       "      <td>0.000000</td>\n",
       "      <td>0.000000</td>\n",
       "      <td>0.000000</td>\n",
       "      <td>0.000000</td>\n",
       "      <td>2.098612</td>\n",
       "      <td>0.000000</td>\n",
       "      <td>0.000000</td>\n",
       "    </tr>\n",
       "    <tr>\n",
       "      <th>NC_009661.1</th>\n",
       "      <td>1.405465</td>\n",
       "      <td>0.000000</td>\n",
       "      <td>2.098612</td>\n",
       "      <td>0.000000</td>\n",
       "      <td>0.000000</td>\n",
       "      <td>0.000000</td>\n",
       "      <td>0.000000</td>\n",
       "      <td>1.405465</td>\n",
       "      <td>1.405465</td>\n",
       "      <td>2.098612</td>\n",
       "      <td>...</td>\n",
       "      <td>1.405465</td>\n",
       "      <td>1.405465</td>\n",
       "      <td>0.000000</td>\n",
       "      <td>0.000000</td>\n",
       "      <td>1.405465</td>\n",
       "      <td>0.000000</td>\n",
       "      <td>1.405465</td>\n",
       "      <td>0.000000</td>\n",
       "      <td>0.000000</td>\n",
       "      <td>1.405465</td>\n",
       "    </tr>\n",
       "    <tr>\n",
       "      <th>NC_011665.1</th>\n",
       "      <td>1.405465</td>\n",
       "      <td>2.098612</td>\n",
       "      <td>0.000000</td>\n",
       "      <td>0.000000</td>\n",
       "      <td>2.098612</td>\n",
       "      <td>0.000000</td>\n",
       "      <td>2.098612</td>\n",
       "      <td>1.405465</td>\n",
       "      <td>1.405465</td>\n",
       "      <td>0.000000</td>\n",
       "      <td>...</td>\n",
       "      <td>1.405465</td>\n",
       "      <td>1.405465</td>\n",
       "      <td>0.000000</td>\n",
       "      <td>2.098612</td>\n",
       "      <td>1.405465</td>\n",
       "      <td>2.098612</td>\n",
       "      <td>1.405465</td>\n",
       "      <td>0.000000</td>\n",
       "      <td>2.098612</td>\n",
       "      <td>1.405465</td>\n",
       "    </tr>\n",
       "  </tbody>\n",
       "</table>\n",
       "<p>3 rows × 10587 columns</p>\n",
       "</div>"
      ],
      "text/plain": [
       "             10000031604968879  10001967542883816  10002844747369936  \\\n",
       "CP001071.1            0.000000           0.000000           0.000000   \n",
       "NC_009661.1           1.405465           0.000000           2.098612   \n",
       "NC_011665.1           1.405465           2.098612           0.000000   \n",
       "\n",
       "             10003635611094380  10004355354687945  10004720045874964  \\\n",
       "CP001071.1            2.098612           0.000000           2.098612   \n",
       "NC_009661.1           0.000000           0.000000           0.000000   \n",
       "NC_011665.1           0.000000           2.098612           0.000000   \n",
       "\n",
       "             10004753411179897  10004925495910091  10008184940193864  \\\n",
       "CP001071.1            0.000000           0.000000           0.000000   \n",
       "NC_009661.1           0.000000           1.405465           1.405465   \n",
       "NC_011665.1           2.098612           1.405465           1.405465   \n",
       "\n",
       "             10008461597296659  ...  998926194132937  9989307766906661  \\\n",
       "CP001071.1            0.000000  ...         0.000000          0.000000   \n",
       "NC_009661.1           2.098612  ...         1.405465          1.405465   \n",
       "NC_011665.1           0.000000  ...         1.405465          1.405465   \n",
       "\n",
       "             9990139941134371  9992012151567792  9992489863586669  \\\n",
       "CP001071.1           2.098612          0.000000          0.000000   \n",
       "NC_009661.1          0.000000          0.000000          1.405465   \n",
       "NC_011665.1          0.000000          2.098612          1.405465   \n",
       "\n",
       "             9994065414699288  9994394125866496  9994816441327197  \\\n",
       "CP001071.1           0.000000          0.000000          2.098612   \n",
       "NC_009661.1          0.000000          1.405465          0.000000   \n",
       "NC_011665.1          2.098612          1.405465          0.000000   \n",
       "\n",
       "             9997181429474537  9999648366321789  \n",
       "CP001071.1           0.000000          0.000000  \n",
       "NC_009661.1          0.000000          1.405465  \n",
       "NC_011665.1          2.098612          1.405465  \n",
       "\n",
       "[3 rows x 10587 columns]"
      ]
     },
     "execution_count": 32,
     "metadata": {},
     "output_type": "execute_result"
    }
   ],
   "source": [
    "tf_idf = pd.DataFrame(\n",
    "    X.todense(), columns=vectorizer.get_feature_names_out(), index=sample_names\n",
    ")\n",
    "tf_idf"
   ]
  },
  {
   "cell_type": "markdown",
   "id": "5f2a31be-b534-4432-9479-48823ef867f1",
   "metadata": {},
   "source": [
    "## Manually compute IDF to see if it matches"
   ]
  },
  {
   "cell_type": "code",
   "execution_count": 33,
   "id": "63f02af7-61cc-4a0b-8f37-e4af027c6079",
   "metadata": {},
   "outputs": [
    {
     "data": {
      "text/plain": [
       "10000031604968879    2.0\n",
       "10001967542883816    1.0\n",
       "10002844747369936    1.0\n",
       "10003635611094380    1.0\n",
       "10004355354687945    1.0\n",
       "                    ... \n",
       "9994065414699288     1.0\n",
       "9994394125866496     2.0\n",
       "9994816441327197     1.0\n",
       "9997181429474537     1.0\n",
       "9999648366321789     2.0\n",
       "Length: 10587, dtype: float64"
      ]
     },
     "execution_count": 33,
     "metadata": {},
     "output_type": "execute_result"
    }
   ],
   "source": [
    "document_frequency = query_counts[query_counts > 0].sum(axis=1)\n",
    "document_frequency"
   ]
  },
  {
   "cell_type": "code",
   "execution_count": 34,
   "id": "5a3f4fba-3e3f-4377-8d55-1dbfab0f018e",
   "metadata": {},
   "outputs": [
    {
     "data": {
      "text/plain": [
       "1.0    8058\n",
       "2.0    2529\n",
       "Name: count, dtype: int64"
      ]
     },
     "execution_count": 34,
     "metadata": {},
     "output_type": "execute_result"
    }
   ],
   "source": [
    "document_frequency.value_counts()"
   ]
  },
  {
   "cell_type": "markdown",
   "id": "843f5784-518b-4851-8a6a-ec88e2d5afa2",
   "metadata": {},
   "source": [
    "Scikit-learn adds 1 to TF-iDF so that words that appear in all documents aren't totally ignored\n",
    "\n",
    "https://scikit-learn.org/1.5/modules/generated/sklearn.feature_extraction.text.TfidfTransformer.html#sklearn.feature_extraction.text.TfidfTransformer\n",
    "\n",
    "\n",
    "> The formula that is used to compute the tf-idf for a term t of a document d in a document set is tf-idf(t, d) = tf(t, d) * idf(t), and the idf is computed as idf(t) = log [ n / df(t) ] + 1 (if smooth_idf=False), where n is the total number of documents in the document set and df(t) is the document frequency of t; the document frequency is the number of documents in the document set that contain the term t. The effect of adding “1” to the idf in the equation above is that terms with zero idf, i.e., terms that occur in all documents in a training set, will not be entirely ignored. (Note that the idf formula above differs from the standard textbook notation that defines the idf as idf(t) = log [ n / (df(t) + 1) ])."
   ]
  },
  {
   "cell_type": "code",
   "execution_count": 35,
   "id": "50191dea-d4d9-445a-b5ef-7cd43f0fdf0d",
   "metadata": {},
   "outputs": [
    {
     "data": {
      "text/plain": [
       "10000031604968879    0.405465\n",
       "10001967542883816    1.098612\n",
       "10002844747369936    1.098612\n",
       "10003635611094380    1.098612\n",
       "10004355354687945    1.098612\n",
       "                       ...   \n",
       "9994065414699288     1.098612\n",
       "9994394125866496     0.405465\n",
       "9994816441327197     1.098612\n",
       "9997181429474537     1.098612\n",
       "9999648366321789     0.405465\n",
       "Name: idf_manual, Length: 10587, dtype: float64"
      ]
     },
     "execution_count": 35,
     "metadata": {},
     "output_type": "execute_result"
    }
   ],
   "source": [
    "idf = np.log(len(sample_names) / document_frequency)\n",
    "idf.name = \"idf_manual\"\n",
    "idf"
   ]
  },
  {
   "cell_type": "code",
   "execution_count": 36,
   "id": "75ceeda7-8177-4f8c-a6d2-85bf2c7203ff",
   "metadata": {},
   "outputs": [],
   "source": [
    "idf_plus1 = idf + 1"
   ]
  },
  {
   "cell_type": "code",
   "execution_count": 37,
   "id": "68b5d1da-1403-499e-b740-728ba8f0fa61",
   "metadata": {},
   "outputs": [
    {
     "data": {
      "text/plain": [
       "np.True_"
      ]
     },
     "execution_count": 37,
     "metadata": {},
     "output_type": "execute_result"
    }
   ],
   "source": [
    "(idf_plus1 == idf_sklearn).all()"
   ]
  },
  {
   "cell_type": "code",
   "execution_count": 38,
   "id": "b610a08f-5622-49f8-8535-831b8501ff0a",
   "metadata": {},
   "outputs": [
    {
     "data": {
      "text/plain": [
       "<seaborn.axisgrid.JointGrid at 0x7efbd31313d0>"
      ]
     },
     "execution_count": 38,
     "metadata": {},
     "output_type": "execute_result"
    },
    {
     "data": {
      "image/png": "[encoded data removed]",
      "text/plain": [
       "<Figure size 600x600 with 3 Axes>"
      ]
     },
     "metadata": {},
     "output_type": "display_data"
    }
   ],
   "source": [
    "sns.jointplot(x=idf_sklearn, y=idf_plus1)"
   ]
  },
  {
   "cell_type": "markdown",
   "id": "930b34b7-5964-4a98-962e-1bc921e20026",
   "metadata": {},
   "source": [
    "## Compute Overlap Score\n",
    "\n",
    "I want to show that `CP001071.1` has unique k-mers compared to the rest of the documents"
   ]
  },
  {
   "cell_type": "code",
   "execution_count": 39,
   "id": "442fe33d-0777-4d34-9469-7672f97fbe4a",
   "metadata": {},
   "outputs": [
    {
     "data": {
      "text/plain": [
       "10000031604968879    1.287682\n",
       "10001967542883816    1.693147\n",
       "10002844747369936    1.693147\n",
       "10003635611094380    1.693147\n",
       "10004355354687945    1.693147\n",
       "                       ...   \n",
       "9994065414699288     1.693147\n",
       "9994394125866496     1.287682\n",
       "9994816441327197     1.693147\n",
       "9997181429474537     1.693147\n",
       "9999648366321789     1.287682\n",
       "Name: idf_smooth, Length: 10587, dtype: float64"
      ]
     },
     "execution_count": 39,
     "metadata": {},
     "output_type": "execute_result"
    }
   ],
   "source": [
    "idf_smooth = np.log((1 + len(sample_names)) / (1 + document_frequency)) + 1\n",
    "idf_smooth.name = \"idf_smooth\"\n",
    "idf_smooth"
   ]
  },
  {
   "cell_type": "code",
   "execution_count": 40,
   "id": "6ddf727f-4b5a-498b-bd91-6526596f2aa8",
   "metadata": {},
   "outputs": [
    {
     "data": {
      "text/plain": [
       "idf_smooth\n",
       "1.693147    8058\n",
       "1.287682    2529\n",
       "Name: count, dtype: int64"
      ]
     },
     "execution_count": 40,
     "metadata": {},
     "output_type": "execute_result"
    }
   ],
   "source": [
    "idf_smooth.value_counts()"
   ]
  },
  {
   "cell_type": "markdown",
   "id": "e3725fdf-4d20-452e-8f96-ab62894e42ab",
   "metadata": {},
   "source": [
    "### Use manually computed IDF\n",
    "\n",
    "This shows that "
   ]
  },
  {
   "cell_type": "code",
   "execution_count": 41,
   "id": "af8151bf-5d35-49f7-914a-e61362c0b000",
   "metadata": {},
   "outputs": [
    {
     "data": {
      "text/plain": [
       "CP001071.1  NC_009661.1  NC_011665.1\n",
       "0.00000     0.000000     0.000191       2709\n",
       "0.00037     0.000000     0.000000       2701\n",
       "0.00000     0.000193     0.000000       2648\n",
       "                         0.000191       2529\n",
       "Name: count, dtype: int64"
      ]
     },
     "execution_count": 41,
     "metadata": {},
     "output_type": "execute_result"
    }
   ],
   "source": [
    "query_frequencies.value_counts()"
   ]
  },
  {
   "cell_type": "code",
   "execution_count": 42,
   "id": "b71f83f1-9676-41ae-b8d5-1886847e3fb4",
   "metadata": {},
   "outputs": [
    {
     "data": {
      "text/plain": [
       "5238"
      ]
     },
     "execution_count": 42,
     "metadata": {},
     "output_type": "execute_result"
    }
   ],
   "source": [
    "2709 + 2529"
   ]
  },
  {
   "cell_type": "code",
   "execution_count": 43,
   "id": "0e36eecc-9db7-4705-a9cc-0902d3e7cfe5",
   "metadata": {},
   "outputs": [
    {
     "data": {
      "text/html": [
       "<div>\n",
       "<style scoped>\n",
       "    .dataframe tbody tr th:only-of-type {\n",
       "        vertical-align: middle;\n",
       "    }\n",
       "\n",
       "    .dataframe tbody tr th {\n",
       "        vertical-align: top;\n",
       "    }\n",
       "\n",
       "    .dataframe thead th {\n",
       "        text-align: right;\n",
       "    }\n",
       "</style>\n",
       "<table border=\"1\" class=\"dataframe\">\n",
       "  <thead>\n",
       "    <tr style=\"text-align: right;\">\n",
       "      <th></th>\n",
       "      <th>CP001071.1</th>\n",
       "      <th>NC_009661.1</th>\n",
       "      <th>NC_011665.1</th>\n",
       "    </tr>\n",
       "  </thead>\n",
       "  <tbody>\n",
       "    <tr>\n",
       "      <th>0</th>\n",
       "      <td>7886</td>\n",
       "      <td>5410</td>\n",
       "      <td>5349</td>\n",
       "    </tr>\n",
       "    <tr>\n",
       "      <th>1</th>\n",
       "      <td>2701</td>\n",
       "      <td>5177</td>\n",
       "      <td>5238</td>\n",
       "    </tr>\n",
       "  </tbody>\n",
       "</table>\n",
       "</div>"
      ],
      "text/plain": [
       "   CP001071.1  NC_009661.1  NC_011665.1\n",
       "0        7886         5410         5349\n",
       "1        2701         5177         5238"
      ]
     },
     "execution_count": 43,
     "metadata": {},
     "output_type": "execute_result"
    }
   ],
   "source": [
    "query_counts.apply(lambda x: x.value_counts())"
   ]
  },
  {
   "cell_type": "code",
   "execution_count": 44,
   "id": "50c873be-393a-4012-9fae-4703652e3c9e",
   "metadata": {},
   "outputs": [
    {
     "data": {
      "text/plain": [
       "CP001071.1  NC_009661.1  NC_011665.1\n",
       "0           0            1              2709\n",
       "1           0            0              2701\n",
       "0           1            0              2648\n",
       "                         1              2529\n",
       "Name: count, dtype: int64"
      ]
     },
     "execution_count": 44,
     "metadata": {},
     "output_type": "execute_result"
    }
   ],
   "source": [
    "query_counts.value_counts()"
   ]
  },
  {
   "cell_type": "code",
   "execution_count": 45,
   "id": "c3dafa76-5450-41ec-8f04-d2dfee794f9e",
   "metadata": {},
   "outputs": [
    {
     "data": {
      "text/plain": [
       "CP001071.1     1.098612\n",
       "NC_009661.1    0.760005\n",
       "NC_011665.1    0.763948\n",
       "dtype: float64"
      ]
     },
     "execution_count": 45,
     "metadata": {},
     "output_type": "execute_result"
    }
   ],
   "source": [
    "query_frequencies.apply(lambda x: (x * idf).sum())"
   ]
  },
  {
   "cell_type": "code",
   "execution_count": 46,
   "id": "dcc918ad-f282-4637-a484-787423b8c5fa",
   "metadata": {},
   "outputs": [
    {
     "data": {
      "text/plain": [
       "CP001071.1     2.098612\n",
       "NC_009661.1    1.760005\n",
       "NC_011665.1    1.763948\n",
       "dtype: float64"
      ]
     },
     "execution_count": 46,
     "metadata": {},
     "output_type": "execute_result"
    }
   ],
   "source": [
    "query_frequencies.apply(lambda x: (x * idf_plus1).sum())"
   ]
  },
  {
   "cell_type": "code",
   "execution_count": 47,
   "id": "0f08f52d-b37b-47ea-a4bf-e13abbfefb7a",
   "metadata": {},
   "outputs": [
    {
     "data": {
      "text/plain": [
       "CP001071.1     1.693147\n",
       "NC_009661.1    1.495075\n",
       "NC_011665.1    1.497381\n",
       "dtype: float64"
      ]
     },
     "execution_count": 47,
     "metadata": {},
     "output_type": "execute_result"
    }
   ],
   "source": [
    "query_frequencies.apply(lambda x: (x * idf_smooth).sum())"
   ]
  },
  {
   "cell_type": "markdown",
   "id": "3412b59a-f719-4eb3-9a7a-a954e8bed356",
   "metadata": {},
   "source": [
    "## Test different scikit-learn TF-IDF metrics for comparison\n",
    "\n",
    "`track_abundance=False` makes L1 and L2 norms the same, since all abundance vectors are weighted by their unit length"
   ]
  },
  {
   "cell_type": "code",
   "execution_count": 48,
   "id": "4c060ee2-1e7a-4173-9eee-a7add504bc5f",
   "metadata": {},
   "outputs": [
    {
     "name": "stdout",
     "output_type": "stream",
     "text": [
      "--- defaults_norm_l2_yes_smoothing ---\n",
      "[[1.         0.         0.        ]\n",
      " [0.         1.         0.35322766]\n",
      " [0.         0.35322766 1.        ]]\n",
      "CP001071.1     1.693147\n",
      "NC_009661.1    1.495075\n",
      "NC_011665.1    1.497381\n",
      "dtype: float64\n",
      "--- norm_l2_no_smoothing ---\n",
      "[[1.         0.         0.        ]\n",
      " [0.         1.         0.29750579]\n",
      " [0.         0.29750579 1.        ]]\n",
      "CP001071.1     2.098612\n",
      "NC_009661.1    1.760005\n",
      "NC_011665.1    1.763948\n",
      "dtype: float64\n",
      "--- norm_l1_yes_smoothing ---\n",
      "[[1.         0.         0.        ]\n",
      " [0.         1.         0.35322766]\n",
      " [0.         0.35322766 1.        ]]\n",
      "CP001071.1     1.693147\n",
      "NC_009661.1    1.495075\n",
      "NC_011665.1    1.497381\n",
      "dtype: float64\n",
      "--- norm_l1_no_smoothing_original ---\n",
      "[[1.         0.         0.        ]\n",
      " [0.         1.         0.29750579]\n",
      " [0.         0.29750579 1.        ]]\n",
      "CP001071.1     2.098612\n",
      "NC_009661.1    1.760005\n",
      "NC_011665.1    1.763948\n",
      "dtype: float64\n",
      "--- norm_l2_yes_smoothing_binary ---\n",
      "[[1.         0.         0.        ]\n",
      " [0.         1.         0.35322766]\n",
      " [0.         0.35322766 1.        ]]\n",
      "CP001071.1     1.693147\n",
      "NC_009661.1    1.495075\n",
      "NC_011665.1    1.497381\n",
      "dtype: float64\n"
     ]
    }
   ],
   "source": [
    "kwargs = {\n",
    "    \"defaults_norm_l2_yes_smoothing\": {},\n",
    "    \"norm_l2_no_smoothing\": dict(norm=\"l2\", smooth_idf=False),\n",
    "    \"norm_l1_yes_smoothing\": dict(norm=\"l1\"),\n",
    "    # This is what I was originally using\n",
    "    \"norm_l1_no_smoothing_original\": dict(norm=\"l1\", smooth_idf=False),\n",
    "    # Use binary counts -> track_abundance = False\n",
    "    \"norm_l2_yes_smoothing_binary\": dict(norm=\"l2\", binary=True),\n",
    "}\n",
    "\n",
    "for name, kw in kwargs.items():\n",
    "\n",
    "    vectorizer = TfidfVectorizer(**kw)\n",
    "    X = vectorizer.fit_transform(corpus)\n",
    "    print(f\"--- {name} ---\")\n",
    "    print(cosine_similarity(X, X))\n",
    "    print(query_frequencies.apply(lambda x: (x * vectorizer.idf_).sum()))"
   ]
  },
  {
   "cell_type": "markdown",
   "id": "fc03b0ff-8c6d-42a6-a873-95cc6db2607e",
   "metadata": {},
   "source": [
    "## Compute the dot product between IDF for all hashvals and the per query frequencies"
   ]
  },
  {
   "cell_type": "markdown",
   "id": "7f58df0a-f6bd-4828-9f28-9c3816bafcfb",
   "metadata": {},
   "source": [
    "### Compute IDF for each sample, i.e. only the hashes that have some value"
   ]
  },
  {
   "cell_type": "code",
   "execution_count": 82,
   "id": "292ddda7-3bfb-44cd-9983-e727bc7efa99",
   "metadata": {},
   "outputs": [
    {
     "data": {
      "text/html": [
       "<div>\n",
       "<style scoped>\n",
       "    .dataframe tbody tr th:only-of-type {\n",
       "        vertical-align: middle;\n",
       "    }\n",
       "\n",
       "    .dataframe tbody tr th {\n",
       "        vertical-align: top;\n",
       "    }\n",
       "\n",
       "    .dataframe thead th {\n",
       "        text-align: right;\n",
       "    }\n",
       "</style>\n",
       "<table border=\"1\" class=\"dataframe\">\n",
       "  <thead>\n",
       "    <tr style=\"text-align: right;\">\n",
       "      <th>match</th>\n",
       "      <th>CP001071.1</th>\n",
       "      <th>NC_009661.1</th>\n",
       "      <th>NC_011665.1</th>\n",
       "    </tr>\n",
       "  </thead>\n",
       "  <tbody>\n",
       "    <tr>\n",
       "      <th>10000031604968879</th>\n",
       "      <td>0.000000</td>\n",
       "      <td>1.287682</td>\n",
       "      <td>1.287682</td>\n",
       "    </tr>\n",
       "    <tr>\n",
       "      <th>10001967542883816</th>\n",
       "      <td>0.000000</td>\n",
       "      <td>0.000000</td>\n",
       "      <td>1.693147</td>\n",
       "    </tr>\n",
       "    <tr>\n",
       "      <th>10002844747369936</th>\n",
       "      <td>0.000000</td>\n",
       "      <td>1.693147</td>\n",
       "      <td>0.000000</td>\n",
       "    </tr>\n",
       "    <tr>\n",
       "      <th>10003635611094380</th>\n",
       "      <td>1.693147</td>\n",
       "      <td>0.000000</td>\n",
       "      <td>0.000000</td>\n",
       "    </tr>\n",
       "    <tr>\n",
       "      <th>10004355354687945</th>\n",
       "      <td>0.000000</td>\n",
       "      <td>0.000000</td>\n",
       "      <td>1.693147</td>\n",
       "    </tr>\n",
       "    <tr>\n",
       "      <th>...</th>\n",
       "      <td>...</td>\n",
       "      <td>...</td>\n",
       "      <td>...</td>\n",
       "    </tr>\n",
       "    <tr>\n",
       "      <th>9994065414699288</th>\n",
       "      <td>0.000000</td>\n",
       "      <td>0.000000</td>\n",
       "      <td>1.693147</td>\n",
       "    </tr>\n",
       "    <tr>\n",
       "      <th>9994394125866496</th>\n",
       "      <td>0.000000</td>\n",
       "      <td>1.287682</td>\n",
       "      <td>1.287682</td>\n",
       "    </tr>\n",
       "    <tr>\n",
       "      <th>9994816441327197</th>\n",
       "      <td>1.693147</td>\n",
       "      <td>0.000000</td>\n",
       "      <td>0.000000</td>\n",
       "    </tr>\n",
       "    <tr>\n",
       "      <th>9997181429474537</th>\n",
       "      <td>0.000000</td>\n",
       "      <td>0.000000</td>\n",
       "      <td>1.693147</td>\n",
       "    </tr>\n",
       "    <tr>\n",
       "      <th>9999648366321789</th>\n",
       "      <td>0.000000</td>\n",
       "      <td>1.287682</td>\n",
       "      <td>1.287682</td>\n",
       "    </tr>\n",
       "  </tbody>\n",
       "</table>\n",
       "<p>10587 rows × 3 columns</p>\n",
       "</div>"
      ],
      "text/plain": [
       "match              CP001071.1  NC_009661.1  NC_011665.1\n",
       "10000031604968879    0.000000     1.287682     1.287682\n",
       "10001967542883816    0.000000     0.000000     1.693147\n",
       "10002844747369936    0.000000     1.693147     0.000000\n",
       "10003635611094380    1.693147     0.000000     0.000000\n",
       "10004355354687945    0.000000     0.000000     1.693147\n",
       "...                       ...          ...          ...\n",
       "9994065414699288     0.000000     0.000000     1.693147\n",
       "9994394125866496     0.000000     1.287682     1.287682\n",
       "9994816441327197     1.693147     0.000000     0.000000\n",
       "9997181429474537     0.000000     0.000000     1.693147\n",
       "9999648366321789     0.000000     1.287682     1.287682\n",
       "\n",
       "[10587 rows x 3 columns]"
      ]
     },
     "execution_count": 82,
     "metadata": {},
     "output_type": "execute_result"
    }
   ],
   "source": [
    "idf_smooth_per_sample = query_frequencies[query_frequencies == 0].copy()\n",
    "idf_smooth_per_sample = idf_smooth_per_sample.apply(lambda x: x.fillna(idf_smooth))\n",
    "idf_smooth_per_sample"
   ]
  },
  {
   "cell_type": "markdown",
   "id": "2275a347-265a-4f0e-b67b-db04c54465b8",
   "metadata": {},
   "source": [
    "### Compute tf-idf scores as a dot product of idf per sample and query frequencies"
   ]
  },
  {
   "cell_type": "code",
   "execution_count": 90,
   "id": "e67dc84f-113d-487d-a890-d0da7063c81c",
   "metadata": {},
   "outputs": [
    {
     "data": {
      "text/html": [
       "<div>\n",
       "<style scoped>\n",
       "    .dataframe tbody tr th:only-of-type {\n",
       "        vertical-align: middle;\n",
       "    }\n",
       "\n",
       "    .dataframe tbody tr th {\n",
       "        vertical-align: top;\n",
       "    }\n",
       "\n",
       "    .dataframe thead th {\n",
       "        text-align: right;\n",
       "    }\n",
       "</style>\n",
       "<table border=\"1\" class=\"dataframe\">\n",
       "  <thead>\n",
       "    <tr style=\"text-align: right;\">\n",
       "      <th>match</th>\n",
       "      <th>CP001071.1</th>\n",
       "      <th>NC_009661.1</th>\n",
       "      <th>NC_011665.1</th>\n",
       "    </tr>\n",
       "    <tr>\n",
       "      <th>query</th>\n",
       "      <th></th>\n",
       "      <th></th>\n",
       "      <th></th>\n",
       "    </tr>\n",
       "  </thead>\n",
       "  <tbody>\n",
       "    <tr>\n",
       "      <th>CP001071.1</th>\n",
       "      <td>1.693147</td>\n",
       "      <td>0.000000</td>\n",
       "      <td>0.000000</td>\n",
       "    </tr>\n",
       "    <tr>\n",
       "      <th>NC_009661.1</th>\n",
       "      <td>0.000000</td>\n",
       "      <td>1.495075</td>\n",
       "      <td>0.629042</td>\n",
       "    </tr>\n",
       "    <tr>\n",
       "      <th>NC_011665.1</th>\n",
       "      <td>0.000000</td>\n",
       "      <td>0.621716</td>\n",
       "      <td>1.497381</td>\n",
       "    </tr>\n",
       "  </tbody>\n",
       "</table>\n",
       "</div>"
      ],
      "text/plain": [
       "match        CP001071.1  NC_009661.1  NC_011665.1\n",
       "query                                            \n",
       "CP001071.1     1.693147     0.000000     0.000000\n",
       "NC_009661.1    0.000000     1.495075     0.629042\n",
       "NC_011665.1    0.000000     0.621716     1.497381"
      ]
     },
     "execution_count": 90,
     "metadata": {},
     "output_type": "execute_result"
    }
   ],
   "source": [
    "tf_idf_scores = query_frequencies.T.dot(idf_smooth_per_sample)\n",
    "tf_idf_scores.index.name = \"query\"\n",
    "tf_idf_scores.columns.name = \"match\"\n",
    "tf_idf_scores.name = \"tf_idf_score\"\n",
    "tf_idf_scores"
   ]
  },
  {
   "cell_type": "code",
   "execution_count": 92,
   "id": "fafc2f9b-3e84-46d1-b120-6d5b05e7b03b",
   "metadata": {},
   "outputs": [
    {
     "data": {
      "text/html": [
       "<div>\n",
       "<style scoped>\n",
       "    .dataframe tbody tr th:only-of-type {\n",
       "        vertical-align: middle;\n",
       "    }\n",
       "\n",
       "    .dataframe tbody tr th {\n",
       "        vertical-align: top;\n",
       "    }\n",
       "\n",
       "    .dataframe thead th {\n",
       "        text-align: right;\n",
       "    }\n",
       "</style>\n",
       "<table border=\"1\" class=\"dataframe\">\n",
       "  <thead>\n",
       "    <tr style=\"text-align: right;\">\n",
       "      <th></th>\n",
       "      <th>query</th>\n",
       "      <th>match</th>\n",
       "      <th>0</th>\n",
       "    </tr>\n",
       "  </thead>\n",
       "  <tbody>\n",
       "    <tr>\n",
       "      <th>0</th>\n",
       "      <td>CP001071.1</td>\n",
       "      <td>CP001071.1</td>\n",
       "      <td>1.693147</td>\n",
       "    </tr>\n",
       "    <tr>\n",
       "      <th>1</th>\n",
       "      <td>CP001071.1</td>\n",
       "      <td>NC_009661.1</td>\n",
       "      <td>0.000000</td>\n",
       "    </tr>\n",
       "    <tr>\n",
       "      <th>2</th>\n",
       "      <td>CP001071.1</td>\n",
       "      <td>NC_011665.1</td>\n",
       "      <td>0.000000</td>\n",
       "    </tr>\n",
       "    <tr>\n",
       "      <th>3</th>\n",
       "      <td>NC_009661.1</td>\n",
       "      <td>CP001071.1</td>\n",
       "      <td>0.000000</td>\n",
       "    </tr>\n",
       "    <tr>\n",
       "      <th>4</th>\n",
       "      <td>NC_009661.1</td>\n",
       "      <td>NC_009661.1</td>\n",
       "      <td>1.495075</td>\n",
       "    </tr>\n",
       "    <tr>\n",
       "      <th>5</th>\n",
       "      <td>NC_009661.1</td>\n",
       "      <td>NC_011665.1</td>\n",
       "      <td>0.629042</td>\n",
       "    </tr>\n",
       "    <tr>\n",
       "      <th>6</th>\n",
       "      <td>NC_011665.1</td>\n",
       "      <td>CP001071.1</td>\n",
       "      <td>0.000000</td>\n",
       "    </tr>\n",
       "    <tr>\n",
       "      <th>7</th>\n",
       "      <td>NC_011665.1</td>\n",
       "      <td>NC_009661.1</td>\n",
       "      <td>0.621716</td>\n",
       "    </tr>\n",
       "    <tr>\n",
       "      <th>8</th>\n",
       "      <td>NC_011665.1</td>\n",
       "      <td>NC_011665.1</td>\n",
       "      <td>1.497381</td>\n",
       "    </tr>\n",
       "  </tbody>\n",
       "</table>\n",
       "</div>"
      ],
      "text/plain": [
       "         query        match         0\n",
       "0   CP001071.1   CP001071.1  1.693147\n",
       "1   CP001071.1  NC_009661.1  0.000000\n",
       "2   CP001071.1  NC_011665.1  0.000000\n",
       "3  NC_009661.1   CP001071.1  0.000000\n",
       "4  NC_009661.1  NC_009661.1  1.495075\n",
       "5  NC_009661.1  NC_011665.1  0.629042\n",
       "6  NC_011665.1   CP001071.1  0.000000\n",
       "7  NC_011665.1  NC_009661.1  0.621716\n",
       "8  NC_011665.1  NC_011665.1  1.497381"
      ]
     },
     "execution_count": 92,
     "metadata": {},
     "output_type": "execute_result"
    }
   ],
   "source": [
    "tf_idf_scores.stack().reset_index().sort_values([\"query\", \"match\"])"
   ]
  },
  {
   "cell_type": "code",
   "execution_count": 93,
   "id": "3993b53c-0d27-4688-8729-8da1837e4423",
   "metadata": {},
   "outputs": [
    {
     "data": {
      "text/plain": [
       "\u001b[0;31mSignature:\u001b[0m \u001b[0mround\u001b[0m\u001b[0;34m(\u001b[0m\u001b[0mnumber\u001b[0m\u001b[0;34m,\u001b[0m \u001b[0mndigits\u001b[0m\u001b[0;34m=\u001b[0m\u001b[0;32mNone\u001b[0m\u001b[0;34m)\u001b[0m\u001b[0;34m\u001b[0m\u001b[0;34m\u001b[0m\u001b[0m\n",
       "\u001b[0;31mDocstring:\u001b[0m\n",
       "Round a number to a given precision in decimal digits.\n",
       "\n",
       "The return value is an integer if ndigits is omitted or None.  Otherwise\n",
       "the return value has the same type as the number.  ndigits may be negative.\n",
       "\u001b[0;31mType:\u001b[0m      builtin_function_or_method"
      ]
     },
     "metadata": {},
     "output_type": "display_data"
    }
   ],
   "source": [
    "round?"
   ]
  },
  {
   "cell_type": "markdown",
   "id": "54cb36d0-7518-429d-86c9-5f75057781ff",
   "metadata": {},
   "source": [
    "# Use SNAP25 protein data"
   ]
  },
  {
   "cell_type": "code",
   "execution_count": 51,
   "id": "356deefe-f8da-485c-932c-f43d162c7d1a",
   "metadata": {},
   "outputs": [
    {
     "name": "stderr",
     "output_type": "stream",
     "text": [
      "/tmp/ipykernel_7464/403141695.py:6: DeprecatedWarning: get_mins is deprecated as of 3.5 and will be removed in 5.0. Use .hashes property instead.\n",
      "  sig.minhash.get_mins(with_abundance=True), name=sig.name.split()[0]\n"
     ]
    },
    {
     "data": {
      "text/plain": [
       "79346193818611200       1\n",
       "168240307515063181      1\n",
       "357295714612793700      1\n",
       "641852037324162118      1\n",
       "757825252518801166      1\n",
       "                       ..\n",
       "17970119671529042692    1\n",
       "17974861901755320079    1\n",
       "18052376351337125503    1\n",
       "18054317455131746015    1\n",
       "18150884563146655585    1\n",
       "Name: sp|P60880|SNP25_HUMAN, Length: 202, dtype: int64"
      ]
     },
     "execution_count": 51,
     "metadata": {},
     "output_type": "execute_result"
    }
   ],
   "source": [
    "sigfile = f\"{testdata}/snap25.protein.k5.sig\"\n",
    "\n",
    "\n",
    "def make_hashval_series(sig):\n",
    "    hashes = pd.Series(\n",
    "        sig.minhash.get_mins(with_abundance=True), name=sig.name.split()[0]\n",
    "    )\n",
    "    return hashes\n",
    "\n",
    "\n",
    "sigs = list(\n",
    "    sourmash.load_file_as_signatures(sigfile, select_moltype=\"protein\", ksize=5)\n",
    ")\n",
    "\n",
    "hashval_seriess = [make_hashval_series(sig) for sig in sigs]\n",
    "len(hashval_seriess)\n",
    "hashval_seriess[0]"
   ]
  },
  {
   "cell_type": "code",
   "execution_count": 52,
   "id": "08c386ee-ed86-4ece-b10c-92b9d61ab638",
   "metadata": {},
   "outputs": [
    {
     "name": "stdout",
     "output_type": "stream",
     "text": [
      "(233, 4)\n",
      "CPU times: user 1.66 ms, sys: 0 ns, total: 1.66 ms\n",
      "Wall time: 2.31 ms\n"
     ]
    },
    {
     "data": {
      "text/html": [
       "<div>\n",
       "<style scoped>\n",
       "    .dataframe tbody tr th:only-of-type {\n",
       "        vertical-align: middle;\n",
       "    }\n",
       "\n",
       "    .dataframe tbody tr th {\n",
       "        vertical-align: top;\n",
       "    }\n",
       "\n",
       "    .dataframe thead th {\n",
       "        text-align: right;\n",
       "    }\n",
       "</style>\n",
       "<table border=\"1\" class=\"dataframe\">\n",
       "  <thead>\n",
       "    <tr style=\"text-align: right;\">\n",
       "      <th></th>\n",
       "      <th>sp|P60880|SNP25_HUMAN</th>\n",
       "      <th>sp|P60880-2|SNP25_HUMAN</th>\n",
       "      <th>snap25a_mxe_exon_human</th>\n",
       "      <th>snap25b_mxe_exon_human</th>\n",
       "    </tr>\n",
       "  </thead>\n",
       "  <tbody>\n",
       "    <tr>\n",
       "      <th>79346193818611200</th>\n",
       "      <td>1.0</td>\n",
       "      <td>1.0</td>\n",
       "      <td>1.0</td>\n",
       "      <td>1.0</td>\n",
       "    </tr>\n",
       "    <tr>\n",
       "      <th>168240307515063181</th>\n",
       "      <td>1.0</td>\n",
       "      <td>1.0</td>\n",
       "      <td>0.0</td>\n",
       "      <td>0.0</td>\n",
       "    </tr>\n",
       "    <tr>\n",
       "      <th>357295714612793700</th>\n",
       "      <td>1.0</td>\n",
       "      <td>1.0</td>\n",
       "      <td>0.0</td>\n",
       "      <td>0.0</td>\n",
       "    </tr>\n",
       "    <tr>\n",
       "      <th>641852037324162118</th>\n",
       "      <td>1.0</td>\n",
       "      <td>1.0</td>\n",
       "      <td>0.0</td>\n",
       "      <td>0.0</td>\n",
       "    </tr>\n",
       "    <tr>\n",
       "      <th>757825252518801166</th>\n",
       "      <td>1.0</td>\n",
       "      <td>1.0</td>\n",
       "      <td>0.0</td>\n",
       "      <td>0.0</td>\n",
       "    </tr>\n",
       "  </tbody>\n",
       "</table>\n",
       "</div>"
      ],
      "text/plain": [
       "                    sp|P60880|SNP25_HUMAN  sp|P60880-2|SNP25_HUMAN  \\\n",
       "79346193818611200                     1.0                      1.0   \n",
       "168240307515063181                    1.0                      1.0   \n",
       "357295714612793700                    1.0                      1.0   \n",
       "641852037324162118                    1.0                      1.0   \n",
       "757825252518801166                    1.0                      1.0   \n",
       "\n",
       "                    snap25a_mxe_exon_human  snap25b_mxe_exon_human  \n",
       "79346193818611200                      1.0                     1.0  \n",
       "168240307515063181                     0.0                     0.0  \n",
       "357295714612793700                     0.0                     0.0  \n",
       "641852037324162118                     0.0                     0.0  \n",
       "757825252518801166                     0.0                     0.0  "
      ]
     },
     "execution_count": 52,
     "metadata": {},
     "output_type": "execute_result"
    }
   ],
   "source": [
    "%%time\n",
    "\n",
    "snap25_hashvals = pd.concat(hashval_seriess, axis=1).fillna(0)\n",
    "print(snap25_hashvals.shape)\n",
    "snap25_hashvals.head()"
   ]
  },
  {
   "cell_type": "code",
   "execution_count": 53,
   "id": "253a9a22-1353-45ac-ae08-9c09da581b6c",
   "metadata": {},
   "outputs": [
    {
     "data": {
      "text/plain": [
       "sp|P60880|SNP25_HUMAN      202.0\n",
       "sp|P60880-2|SNP25_HUMAN    202.0\n",
       "snap25a_mxe_exon_human      28.0\n",
       "snap25b_mxe_exon_human      28.0\n",
       "dtype: float64"
      ]
     },
     "execution_count": 53,
     "metadata": {},
     "output_type": "execute_result"
    }
   ],
   "source": [
    "snap25_n_hashvals_per_sample = snap25_hashvals.sum()\n",
    "snap25_n_hashvals_per_sample"
   ]
  },
  {
   "cell_type": "code",
   "execution_count": 54,
   "id": "6cce2b41-55c4-4d22-803c-8442a0f9ee20",
   "metadata": {},
   "outputs": [
    {
     "data": {
      "text/html": [
       "<div>\n",
       "<style scoped>\n",
       "    .dataframe tbody tr th:only-of-type {\n",
       "        vertical-align: middle;\n",
       "    }\n",
       "\n",
       "    .dataframe tbody tr th {\n",
       "        vertical-align: top;\n",
       "    }\n",
       "\n",
       "    .dataframe thead th {\n",
       "        text-align: right;\n",
       "    }\n",
       "</style>\n",
       "<table border=\"1\" class=\"dataframe\">\n",
       "  <thead>\n",
       "    <tr style=\"text-align: right;\">\n",
       "      <th></th>\n",
       "      <th>sp|P60880|SNP25_HUMAN</th>\n",
       "      <th>sp|P60880-2|SNP25_HUMAN</th>\n",
       "      <th>snap25a_mxe_exon_human</th>\n",
       "      <th>snap25b_mxe_exon_human</th>\n",
       "    </tr>\n",
       "  </thead>\n",
       "  <tbody>\n",
       "    <tr>\n",
       "      <th>79346193818611200</th>\n",
       "      <td>0.00495</td>\n",
       "      <td>0.00495</td>\n",
       "      <td>0.035714</td>\n",
       "      <td>0.035714</td>\n",
       "    </tr>\n",
       "    <tr>\n",
       "      <th>168240307515063181</th>\n",
       "      <td>0.00495</td>\n",
       "      <td>0.00495</td>\n",
       "      <td>0.000000</td>\n",
       "      <td>0.000000</td>\n",
       "    </tr>\n",
       "    <tr>\n",
       "      <th>357295714612793700</th>\n",
       "      <td>0.00495</td>\n",
       "      <td>0.00495</td>\n",
       "      <td>0.000000</td>\n",
       "      <td>0.000000</td>\n",
       "    </tr>\n",
       "    <tr>\n",
       "      <th>641852037324162118</th>\n",
       "      <td>0.00495</td>\n",
       "      <td>0.00495</td>\n",
       "      <td>0.000000</td>\n",
       "      <td>0.000000</td>\n",
       "    </tr>\n",
       "    <tr>\n",
       "      <th>757825252518801166</th>\n",
       "      <td>0.00495</td>\n",
       "      <td>0.00495</td>\n",
       "      <td>0.000000</td>\n",
       "      <td>0.000000</td>\n",
       "    </tr>\n",
       "    <tr>\n",
       "      <th>...</th>\n",
       "      <td>...</td>\n",
       "      <td>...</td>\n",
       "      <td>...</td>\n",
       "      <td>...</td>\n",
       "    </tr>\n",
       "    <tr>\n",
       "      <th>15743546848986775135</th>\n",
       "      <td>0.00000</td>\n",
       "      <td>0.00495</td>\n",
       "      <td>0.000000</td>\n",
       "      <td>0.000000</td>\n",
       "    </tr>\n",
       "    <tr>\n",
       "      <th>15861183366162130000</th>\n",
       "      <td>0.00000</td>\n",
       "      <td>0.00495</td>\n",
       "      <td>0.000000</td>\n",
       "      <td>0.000000</td>\n",
       "    </tr>\n",
       "    <tr>\n",
       "      <th>16118309445659596513</th>\n",
       "      <td>0.00000</td>\n",
       "      <td>0.00495</td>\n",
       "      <td>0.000000</td>\n",
       "      <td>0.000000</td>\n",
       "    </tr>\n",
       "    <tr>\n",
       "      <th>18008872121808310705</th>\n",
       "      <td>0.00000</td>\n",
       "      <td>0.00495</td>\n",
       "      <td>0.035714</td>\n",
       "      <td>0.000000</td>\n",
       "    </tr>\n",
       "    <tr>\n",
       "      <th>18170310193389148668</th>\n",
       "      <td>0.00000</td>\n",
       "      <td>0.00495</td>\n",
       "      <td>0.035714</td>\n",
       "      <td>0.000000</td>\n",
       "    </tr>\n",
       "  </tbody>\n",
       "</table>\n",
       "<p>233 rows × 4 columns</p>\n",
       "</div>"
      ],
      "text/plain": [
       "                      sp|P60880|SNP25_HUMAN  sp|P60880-2|SNP25_HUMAN  \\\n",
       "79346193818611200                   0.00495                  0.00495   \n",
       "168240307515063181                  0.00495                  0.00495   \n",
       "357295714612793700                  0.00495                  0.00495   \n",
       "641852037324162118                  0.00495                  0.00495   \n",
       "757825252518801166                  0.00495                  0.00495   \n",
       "...                                     ...                      ...   \n",
       "15743546848986775135                0.00000                  0.00495   \n",
       "15861183366162130000                0.00000                  0.00495   \n",
       "16118309445659596513                0.00000                  0.00495   \n",
       "18008872121808310705                0.00000                  0.00495   \n",
       "18170310193389148668                0.00000                  0.00495   \n",
       "\n",
       "                      snap25a_mxe_exon_human  snap25b_mxe_exon_human  \n",
       "79346193818611200                   0.035714                0.035714  \n",
       "168240307515063181                  0.000000                0.000000  \n",
       "357295714612793700                  0.000000                0.000000  \n",
       "641852037324162118                  0.000000                0.000000  \n",
       "757825252518801166                  0.000000                0.000000  \n",
       "...                                      ...                     ...  \n",
       "15743546848986775135                0.000000                0.000000  \n",
       "15861183366162130000                0.000000                0.000000  \n",
       "16118309445659596513                0.000000                0.000000  \n",
       "18008872121808310705                0.035714                0.000000  \n",
       "18170310193389148668                0.035714                0.000000  \n",
       "\n",
       "[233 rows x 4 columns]"
      ]
     },
     "execution_count": 54,
     "metadata": {},
     "output_type": "execute_result"
    }
   ],
   "source": [
    "snap25_freqs = snap25_hashvals / snap25_hashvals.sum()\n",
    "snap25_freqs"
   ]
  },
  {
   "cell_type": "code",
   "execution_count": 55,
   "id": "a5ee5693-8d1e-4bd6-9e1d-bae28c6bf84c",
   "metadata": {},
   "outputs": [
    {
     "data": {
      "text/plain": [
       "sp|P60880|SNP25_HUMAN  sp|P60880-2|SNP25_HUMAN  snap25a_mxe_exon_human  snap25b_mxe_exon_human\n",
       "0.00495                0.00495                  0.000000                0.000000                  166\n",
       "0.00000                0.00495                  0.035714                0.000000                   23\n",
       "0.00495                0.00000                  0.000000                0.035714                   23\n",
       "0.00000                0.00495                  0.000000                0.000000                    8\n",
       "0.00495                0.00000                  0.000000                0.000000                    8\n",
       "                       0.00495                  0.035714                0.035714                    5\n",
       "Name: count, dtype: int64"
      ]
     },
     "execution_count": 55,
     "metadata": {},
     "output_type": "execute_result"
    }
   ],
   "source": [
    "snap25_freqs.value_counts()"
   ]
  },
  {
   "cell_type": "code",
   "execution_count": 56,
   "id": "994513dd-9e02-4301-98ef-b697b791422b",
   "metadata": {},
   "outputs": [
    {
     "data": {
      "text/plain": [
       "2.0    212\n",
       "1.0     16\n",
       "4.0      5\n",
       "Name: count, dtype: int64"
      ]
     },
     "execution_count": 56,
     "metadata": {},
     "output_type": "execute_result"
    }
   ],
   "source": [
    "snap25_db_counts = snap25_hashvals.sum(axis=1)\n",
    "snap25_db_counts.value_counts()"
   ]
  },
  {
   "cell_type": "code",
   "execution_count": 57,
   "id": "afa00d5d-933f-443d-8371-0338b46d0b99",
   "metadata": {},
   "outputs": [
    {
     "data": {
      "text/plain": [
       "233"
      ]
     },
     "execution_count": 57,
     "metadata": {},
     "output_type": "execute_result"
    }
   ],
   "source": [
    "len(snap25_db_counts)"
   ]
  },
  {
   "cell_type": "markdown",
   "id": "5c30455f-fab9-4721-b32e-738561c54f0c",
   "metadata": {},
   "source": [
    "### Compute L1 norm for database frequencies"
   ]
  },
  {
   "cell_type": "code",
   "execution_count": 58,
   "id": "4bf39a3c-9937-44f5-8b85-e5afc34c3c4e",
   "metadata": {},
   "outputs": [
    {
     "data": {
      "text/plain": [
       "np.float64(460.0)"
      ]
     },
     "execution_count": 58,
     "metadata": {},
     "output_type": "execute_result"
    }
   ],
   "source": [
    "snap25_db_l1_norm_abund = snap25_db_counts.sum()\n",
    "snap25_db_l1_norm_abund"
   ]
  },
  {
   "cell_type": "code",
   "execution_count": 59,
   "id": "fb07768b-442d-4db7-8745-12d5ba1c4b89",
   "metadata": {},
   "outputs": [
    {
     "data": {
      "text/plain": [
       "0.004348    212\n",
       "0.002174     16\n",
       "0.008696      5\n",
       "Name: count, dtype: int64"
      ]
     },
     "execution_count": 59,
     "metadata": {},
     "output_type": "execute_result"
    }
   ],
   "source": [
    "snap25_db_l1_norm = snap25_db_counts / snap25_db_l1_norm_abund\n",
    "snap25_db_l1_norm.value_counts()"
   ]
  },
  {
   "cell_type": "markdown",
   "id": "2f6fda95-f5df-4cb2-a61d-c6f3d4942a87",
   "metadata": {},
   "source": [
    "### Compute L2 norm for database frequencies"
   ]
  },
  {
   "cell_type": "code",
   "execution_count": 60,
   "id": "d225ff2a-297e-4f87-9884-00f3d5798f71",
   "metadata": {},
   "outputs": [
    {
     "data": {
      "text/plain": [
       "np.float64(944.0)"
      ]
     },
     "execution_count": 60,
     "metadata": {},
     "output_type": "execute_result"
    }
   ],
   "source": [
    "snap25_db_l2_norm_abund = (snap25_db_counts.pow(2)).sum()\n",
    "snap25_db_l2_norm_abund"
   ]
  },
  {
   "cell_type": "code",
   "execution_count": null,
   "id": "7b0cfbd5",
   "metadata": {},
   "outputs": [],
   "source": []
  },
  {
   "cell_type": "code",
   "execution_count": 61,
   "id": "4e5f5e51-d814-466c-9a77-24029d1c0571",
   "metadata": {},
   "outputs": [
    {
     "data": {
      "text/plain": [
       "0.002119    212\n",
       "0.001059     16\n",
       "0.004237      5\n",
       "Name: count, dtype: int64"
      ]
     },
     "execution_count": 61,
     "metadata": {},
     "output_type": "execute_result"
    }
   ],
   "source": [
    "snap25_db_l2_norm = snap25_db_counts / snap25_db_l2_norm_abund\n",
    "snap25_db_l2_norm.value_counts()"
   ]
  },
  {
   "cell_type": "markdown",
   "id": "efb8c3ac-4edb-4e8a-8bb8-c586fc7bd908",
   "metadata": {},
   "source": [
    "## Compute document frequency (df) for snap25"
   ]
  },
  {
   "cell_type": "code",
   "execution_count": 62,
   "id": "3ce689d6-9d02-47e5-997c-d11c3f65971b",
   "metadata": {},
   "outputs": [
    {
     "data": {
      "text/plain": [
       "2.0    212\n",
       "1.0     16\n",
       "4.0      5\n",
       "Name: count, dtype: int64"
      ]
     },
     "execution_count": 62,
     "metadata": {},
     "output_type": "execute_result"
    }
   ],
   "source": [
    "snap25_document_frequency = snap25_hashvals[snap25_hashvals > 0].sum(axis=1)\n",
    "snap25_document_frequency.value_counts()"
   ]
  },
  {
   "cell_type": "code",
   "execution_count": 63,
   "id": "8d1d098d-8922-4042-a4c3-5b87a035934d",
   "metadata": {},
   "outputs": [
    {
     "data": {
      "text/plain": [
       "snap25_idf_smooth\n",
       "1.510826    212\n",
       "1.916291     16\n",
       "1.000000      5\n",
       "Name: count, dtype: int64"
      ]
     },
     "execution_count": 63,
     "metadata": {},
     "output_type": "execute_result"
    }
   ],
   "source": [
    "snap25_idf_smooth = (\n",
    "    np.log((1 + len(snap25_freqs.columns)) / (1 + snap25_document_frequency)) + 1\n",
    ")\n",
    "snap25_idf_smooth.name = \"snap25_idf_smooth\"\n",
    "snap25_idf_smooth.value_counts()"
   ]
  },
  {
   "cell_type": "markdown",
   "id": "60e62a88-16da-4046-948f-b7a9378b0097",
   "metadata": {},
   "source": [
    "## Compute tf-idf scores"
   ]
  },
  {
   "cell_type": "code",
   "execution_count": 64,
   "id": "a4914926-71dc-4766-a271-2bb681e6756b",
   "metadata": {},
   "outputs": [
    {
     "data": {
      "text/html": [
       "<div>\n",
       "<style scoped>\n",
       "    .dataframe tbody tr th:only-of-type {\n",
       "        vertical-align: middle;\n",
       "    }\n",
       "\n",
       "    .dataframe tbody tr th {\n",
       "        vertical-align: top;\n",
       "    }\n",
       "\n",
       "    .dataframe thead th {\n",
       "        text-align: right;\n",
       "    }\n",
       "</style>\n",
       "<table border=\"1\" class=\"dataframe\">\n",
       "  <thead>\n",
       "    <tr style=\"text-align: right;\">\n",
       "      <th></th>\n",
       "      <th>sp|P60880|SNP25_HUMAN</th>\n",
       "      <th>sp|P60880-2|SNP25_HUMAN</th>\n",
       "      <th>snap25a_mxe_exon_human</th>\n",
       "      <th>snap25b_mxe_exon_human</th>\n",
       "    </tr>\n",
       "  </thead>\n",
       "  <tbody>\n",
       "    <tr>\n",
       "      <th>79346193818611200</th>\n",
       "      <td>0.00495</td>\n",
       "      <td>0.00495</td>\n",
       "      <td>0.035714</td>\n",
       "      <td>0.035714</td>\n",
       "    </tr>\n",
       "    <tr>\n",
       "      <th>168240307515063181</th>\n",
       "      <td>0.00495</td>\n",
       "      <td>0.00495</td>\n",
       "      <td>0.000000</td>\n",
       "      <td>0.000000</td>\n",
       "    </tr>\n",
       "    <tr>\n",
       "      <th>357295714612793700</th>\n",
       "      <td>0.00495</td>\n",
       "      <td>0.00495</td>\n",
       "      <td>0.000000</td>\n",
       "      <td>0.000000</td>\n",
       "    </tr>\n",
       "    <tr>\n",
       "      <th>641852037324162118</th>\n",
       "      <td>0.00495</td>\n",
       "      <td>0.00495</td>\n",
       "      <td>0.000000</td>\n",
       "      <td>0.000000</td>\n",
       "    </tr>\n",
       "    <tr>\n",
       "      <th>757825252518801166</th>\n",
       "      <td>0.00495</td>\n",
       "      <td>0.00495</td>\n",
       "      <td>0.000000</td>\n",
       "      <td>0.000000</td>\n",
       "    </tr>\n",
       "    <tr>\n",
       "      <th>...</th>\n",
       "      <td>...</td>\n",
       "      <td>...</td>\n",
       "      <td>...</td>\n",
       "      <td>...</td>\n",
       "    </tr>\n",
       "    <tr>\n",
       "      <th>15743546848986775135</th>\n",
       "      <td>0.00000</td>\n",
       "      <td>0.00495</td>\n",
       "      <td>0.000000</td>\n",
       "      <td>0.000000</td>\n",
       "    </tr>\n",
       "    <tr>\n",
       "      <th>15861183366162130000</th>\n",
       "      <td>0.00000</td>\n",
       "      <td>0.00495</td>\n",
       "      <td>0.000000</td>\n",
       "      <td>0.000000</td>\n",
       "    </tr>\n",
       "    <tr>\n",
       "      <th>16118309445659596513</th>\n",
       "      <td>0.00000</td>\n",
       "      <td>0.00495</td>\n",
       "      <td>0.000000</td>\n",
       "      <td>0.000000</td>\n",
       "    </tr>\n",
       "    <tr>\n",
       "      <th>18008872121808310705</th>\n",
       "      <td>0.00000</td>\n",
       "      <td>0.00495</td>\n",
       "      <td>0.035714</td>\n",
       "      <td>0.000000</td>\n",
       "    </tr>\n",
       "    <tr>\n",
       "      <th>18170310193389148668</th>\n",
       "      <td>0.00000</td>\n",
       "      <td>0.00495</td>\n",
       "      <td>0.035714</td>\n",
       "      <td>0.000000</td>\n",
       "    </tr>\n",
       "  </tbody>\n",
       "</table>\n",
       "<p>233 rows × 4 columns</p>\n",
       "</div>"
      ],
      "text/plain": [
       "                      sp|P60880|SNP25_HUMAN  sp|P60880-2|SNP25_HUMAN  \\\n",
       "79346193818611200                   0.00495                  0.00495   \n",
       "168240307515063181                  0.00495                  0.00495   \n",
       "357295714612793700                  0.00495                  0.00495   \n",
       "641852037324162118                  0.00495                  0.00495   \n",
       "757825252518801166                  0.00495                  0.00495   \n",
       "...                                     ...                      ...   \n",
       "15743546848986775135                0.00000                  0.00495   \n",
       "15861183366162130000                0.00000                  0.00495   \n",
       "16118309445659596513                0.00000                  0.00495   \n",
       "18008872121808310705                0.00000                  0.00495   \n",
       "18170310193389148668                0.00000                  0.00495   \n",
       "\n",
       "                      snap25a_mxe_exon_human  snap25b_mxe_exon_human  \n",
       "79346193818611200                   0.035714                0.035714  \n",
       "168240307515063181                  0.000000                0.000000  \n",
       "357295714612793700                  0.000000                0.000000  \n",
       "641852037324162118                  0.000000                0.000000  \n",
       "757825252518801166                  0.000000                0.000000  \n",
       "...                                      ...                     ...  \n",
       "15743546848986775135                0.000000                0.000000  \n",
       "15861183366162130000                0.000000                0.000000  \n",
       "16118309445659596513                0.000000                0.000000  \n",
       "18008872121808310705                0.035714                0.000000  \n",
       "18170310193389148668                0.035714                0.000000  \n",
       "\n",
       "[233 rows x 4 columns]"
      ]
     },
     "execution_count": 64,
     "metadata": {},
     "output_type": "execute_result"
    }
   ],
   "source": [
    "snap25_freqs"
   ]
  },
  {
   "cell_type": "code",
   "execution_count": 65,
   "id": "85ead96c-8c03-45e6-84be-0d774f70b1f4",
   "metadata": {},
   "outputs": [
    {
     "data": {
      "text/plain": [
       "sp|P60880|SNP25_HUMAN  sp|P60880-2|SNP25_HUMAN  snap25a_mxe_exon_human  snap25b_mxe_exon_human\n",
       "0.007479               0.007479                 0.000000                0.000000                  166\n",
       "0.000000               0.007479                 0.053958                0.000000                   23\n",
       "0.007479               0.000000                 0.000000                0.053958                   23\n",
       "0.000000               0.009487                 0.000000                0.000000                    8\n",
       "0.009487               0.000000                 0.000000                0.000000                    8\n",
       "0.004950               0.004950                 0.035714                0.035714                    5\n",
       "Name: count, dtype: int64"
      ]
     },
     "execution_count": 65,
     "metadata": {},
     "output_type": "execute_result"
    }
   ],
   "source": [
    "snap25_tf_idf = snap25_freqs.apply(lambda x: (x * snap25_idf_smooth))\n",
    "snap25_tf_idf.value_counts()"
   ]
  },
  {
   "cell_type": "code",
   "execution_count": 66,
   "id": "ffb0b5a8-be9e-48cc-b657-921eefce8baf",
   "metadata": {},
   "outputs": [
    {
     "data": {
      "text/plain": [
       "sp|P60880|SNP25_HUMAN  sp|P60880-2|SNP25_HUMAN  snap25a_mxe_exon_human  snap25b_mxe_exon_human\n",
       "0.007479               0.007479                 0.000000                0.000000                  166\n",
       "0.000000               0.007479                 0.053958                0.000000                   23\n",
       "0.007479               0.000000                 0.000000                0.053958                   23\n",
       "0.000000               0.009487                 0.000000                0.000000                    8\n",
       "0.009487               0.000000                 0.000000                0.000000                    8\n",
       "0.004950               0.004950                 0.035714                0.035714                    5\n",
       "Name: count, dtype: int64"
      ]
     },
     "execution_count": 66,
     "metadata": {},
     "output_type": "execute_result"
    }
   ],
   "source": [
    "snap25_tf_idf_value_counts = snap25_tf_idf.value_counts()\n",
    "snap25_tf_idf_value_counts"
   ]
  },
  {
   "cell_type": "code",
   "execution_count": 67,
   "id": "7562ab66-c618-4658-b9db-d4187193d433",
   "metadata": {},
   "outputs": [
    {
     "data": {
      "text/html": [
       "<div>\n",
       "<style scoped>\n",
       "    .dataframe tbody tr th:only-of-type {\n",
       "        vertical-align: middle;\n",
       "    }\n",
       "\n",
       "    .dataframe tbody tr th {\n",
       "        vertical-align: top;\n",
       "    }\n",
       "\n",
       "    .dataframe thead th {\n",
       "        text-align: right;\n",
       "    }\n",
       "</style>\n",
       "<table border=\"1\" class=\"dataframe\">\n",
       "  <thead>\n",
       "    <tr style=\"text-align: right;\">\n",
       "      <th></th>\n",
       "      <th></th>\n",
       "      <th>snap25b_mxe_exon_human</th>\n",
       "      <th>0.000000</th>\n",
       "      <th>0.035714</th>\n",
       "      <th>0.053958</th>\n",
       "    </tr>\n",
       "    <tr>\n",
       "      <th>sp|P60880|SNP25_HUMAN</th>\n",
       "      <th>sp|P60880-2|SNP25_HUMAN</th>\n",
       "      <th>snap25a_mxe_exon_human</th>\n",
       "      <th></th>\n",
       "      <th></th>\n",
       "      <th></th>\n",
       "    </tr>\n",
       "  </thead>\n",
       "  <tbody>\n",
       "    <tr>\n",
       "      <th rowspan=\"2\" valign=\"top\">0.000000</th>\n",
       "      <th>0.007479</th>\n",
       "      <th>0.053958</th>\n",
       "      <td>23.0</td>\n",
       "      <td>NaN</td>\n",
       "      <td>NaN</td>\n",
       "    </tr>\n",
       "    <tr>\n",
       "      <th>0.009487</th>\n",
       "      <th>0.000000</th>\n",
       "      <td>8.0</td>\n",
       "      <td>NaN</td>\n",
       "      <td>NaN</td>\n",
       "    </tr>\n",
       "    <tr>\n",
       "      <th>0.004950</th>\n",
       "      <th>0.004950</th>\n",
       "      <th>0.035714</th>\n",
       "      <td>NaN</td>\n",
       "      <td>5.0</td>\n",
       "      <td>NaN</td>\n",
       "    </tr>\n",
       "    <tr>\n",
       "      <th rowspan=\"2\" valign=\"top\">0.007479</th>\n",
       "      <th>0.000000</th>\n",
       "      <th>0.000000</th>\n",
       "      <td>NaN</td>\n",
       "      <td>NaN</td>\n",
       "      <td>23.0</td>\n",
       "    </tr>\n",
       "    <tr>\n",
       "      <th>0.007479</th>\n",
       "      <th>0.000000</th>\n",
       "      <td>166.0</td>\n",
       "      <td>NaN</td>\n",
       "      <td>NaN</td>\n",
       "    </tr>\n",
       "    <tr>\n",
       "      <th>0.009487</th>\n",
       "      <th>0.000000</th>\n",
       "      <th>0.000000</th>\n",
       "      <td>8.0</td>\n",
       "      <td>NaN</td>\n",
       "      <td>NaN</td>\n",
       "    </tr>\n",
       "  </tbody>\n",
       "</table>\n",
       "</div>"
      ],
      "text/plain": [
       "snap25b_mxe_exon_human                                                0.000000  \\\n",
       "sp|P60880|SNP25_HUMAN sp|P60880-2|SNP25_HUMAN snap25a_mxe_exon_human             \n",
       "0.000000              0.007479                0.053958                    23.0   \n",
       "                      0.009487                0.000000                     8.0   \n",
       "0.004950              0.004950                0.035714                     NaN   \n",
       "0.007479              0.000000                0.000000                     NaN   \n",
       "                      0.007479                0.000000                   166.0   \n",
       "0.009487              0.000000                0.000000                     8.0   \n",
       "\n",
       "snap25b_mxe_exon_human                                                0.035714  \\\n",
       "sp|P60880|SNP25_HUMAN sp|P60880-2|SNP25_HUMAN snap25a_mxe_exon_human             \n",
       "0.000000              0.007479                0.053958                     NaN   \n",
       "                      0.009487                0.000000                     NaN   \n",
       "0.004950              0.004950                0.035714                     5.0   \n",
       "0.007479              0.000000                0.000000                     NaN   \n",
       "                      0.007479                0.000000                     NaN   \n",
       "0.009487              0.000000                0.000000                     NaN   \n",
       "\n",
       "snap25b_mxe_exon_human                                                0.053958  \n",
       "sp|P60880|SNP25_HUMAN sp|P60880-2|SNP25_HUMAN snap25a_mxe_exon_human            \n",
       "0.000000              0.007479                0.053958                     NaN  \n",
       "                      0.009487                0.000000                     NaN  \n",
       "0.004950              0.004950                0.035714                     NaN  \n",
       "0.007479              0.000000                0.000000                    23.0  \n",
       "                      0.007479                0.000000                     NaN  \n",
       "0.009487              0.000000                0.000000                     NaN  "
      ]
     },
     "execution_count": 67,
     "metadata": {},
     "output_type": "execute_result"
    }
   ],
   "source": [
    "snap25_tf_idf_value_counts.unstack()"
   ]
  },
  {
   "cell_type": "code",
   "execution_count": 68,
   "id": "2e408297-8d6a-408c-8fa0-925a0e8440e4",
   "metadata": {},
   "outputs": [
    {
     "data": {
      "text/plain": [
       "sp|P60880|SNP25_HUMAN      1.514239\n",
       "sp|P60880-2|SNP25_HUMAN    1.514239\n",
       "snap25a_mxe_exon_human     1.419607\n",
       "snap25b_mxe_exon_human     1.419607\n",
       "dtype: float64"
      ]
     },
     "execution_count": 68,
     "metadata": {},
     "output_type": "execute_result"
    }
   ],
   "source": [
    "snap25_tf_idf_scores = snap25_tf_idf.sum()\n",
    "snap25_tf_idf_scores"
   ]
  },
  {
   "cell_type": "code",
   "execution_count": 69,
   "id": "186fb67a-bf7d-4e74-8df6-5ce46d42bb56",
   "metadata": {},
   "outputs": [
    {
     "data": {
      "text/plain": [
       "79346193818611200       1.000000\n",
       "168240307515063181      1.510826\n",
       "357295714612793700      1.510826\n",
       "641852037324162118      1.510826\n",
       "757825252518801166      1.510826\n",
       "                          ...   \n",
       "15743546848986775135    1.916291\n",
       "15861183366162130000    1.916291\n",
       "16118309445659596513    1.916291\n",
       "18008872121808310705    1.510826\n",
       "18170310193389148668    1.510826\n",
       "Name: snap25_idf_smooth, Length: 233, dtype: float64"
      ]
     },
     "execution_count": 69,
     "metadata": {},
     "output_type": "execute_result"
    }
   ],
   "source": [
    "snap25_idf_smooth"
   ]
  },
  {
   "cell_type": "markdown",
   "id": "230c864e-b03d-4f2f-95ee-83c5398804ee",
   "metadata": {},
   "source": [
    "### Compute IDF for each sample, i.e. only the hashes that have some value"
   ]
  },
  {
   "cell_type": "code",
   "execution_count": 70,
   "id": "ae236464-bc7b-4934-8645-a0fcc9400944",
   "metadata": {},
   "outputs": [
    {
     "data": {
      "text/html": [
       "<div>\n",
       "<style scoped>\n",
       "    .dataframe tbody tr th:only-of-type {\n",
       "        vertical-align: middle;\n",
       "    }\n",
       "\n",
       "    .dataframe tbody tr th {\n",
       "        vertical-align: top;\n",
       "    }\n",
       "\n",
       "    .dataframe thead th {\n",
       "        text-align: right;\n",
       "    }\n",
       "</style>\n",
       "<table border=\"1\" class=\"dataframe\">\n",
       "  <thead>\n",
       "    <tr style=\"text-align: right;\">\n",
       "      <th></th>\n",
       "      <th>sp|P60880|SNP25_HUMAN</th>\n",
       "      <th>sp|P60880-2|SNP25_HUMAN</th>\n",
       "      <th>snap25a_mxe_exon_human</th>\n",
       "      <th>snap25b_mxe_exon_human</th>\n",
       "    </tr>\n",
       "  </thead>\n",
       "  <tbody>\n",
       "    <tr>\n",
       "      <th>79346193818611200</th>\n",
       "      <td>1.000000</td>\n",
       "      <td>1.000000</td>\n",
       "      <td>1.000000</td>\n",
       "      <td>1.0</td>\n",
       "    </tr>\n",
       "    <tr>\n",
       "      <th>168240307515063181</th>\n",
       "      <td>1.510826</td>\n",
       "      <td>1.510826</td>\n",
       "      <td>0.000000</td>\n",
       "      <td>0.0</td>\n",
       "    </tr>\n",
       "    <tr>\n",
       "      <th>357295714612793700</th>\n",
       "      <td>1.510826</td>\n",
       "      <td>1.510826</td>\n",
       "      <td>0.000000</td>\n",
       "      <td>0.0</td>\n",
       "    </tr>\n",
       "    <tr>\n",
       "      <th>641852037324162118</th>\n",
       "      <td>1.510826</td>\n",
       "      <td>1.510826</td>\n",
       "      <td>0.000000</td>\n",
       "      <td>0.0</td>\n",
       "    </tr>\n",
       "    <tr>\n",
       "      <th>757825252518801166</th>\n",
       "      <td>1.510826</td>\n",
       "      <td>1.510826</td>\n",
       "      <td>0.000000</td>\n",
       "      <td>0.0</td>\n",
       "    </tr>\n",
       "    <tr>\n",
       "      <th>...</th>\n",
       "      <td>...</td>\n",
       "      <td>...</td>\n",
       "      <td>...</td>\n",
       "      <td>...</td>\n",
       "    </tr>\n",
       "    <tr>\n",
       "      <th>15743546848986775135</th>\n",
       "      <td>0.000000</td>\n",
       "      <td>1.916291</td>\n",
       "      <td>0.000000</td>\n",
       "      <td>0.0</td>\n",
       "    </tr>\n",
       "    <tr>\n",
       "      <th>15861183366162130000</th>\n",
       "      <td>0.000000</td>\n",
       "      <td>1.916291</td>\n",
       "      <td>0.000000</td>\n",
       "      <td>0.0</td>\n",
       "    </tr>\n",
       "    <tr>\n",
       "      <th>16118309445659596513</th>\n",
       "      <td>0.000000</td>\n",
       "      <td>1.916291</td>\n",
       "      <td>0.000000</td>\n",
       "      <td>0.0</td>\n",
       "    </tr>\n",
       "    <tr>\n",
       "      <th>18008872121808310705</th>\n",
       "      <td>0.000000</td>\n",
       "      <td>1.510826</td>\n",
       "      <td>1.510826</td>\n",
       "      <td>0.0</td>\n",
       "    </tr>\n",
       "    <tr>\n",
       "      <th>18170310193389148668</th>\n",
       "      <td>0.000000</td>\n",
       "      <td>1.510826</td>\n",
       "      <td>1.510826</td>\n",
       "      <td>0.0</td>\n",
       "    </tr>\n",
       "  </tbody>\n",
       "</table>\n",
       "<p>233 rows × 4 columns</p>\n",
       "</div>"
      ],
      "text/plain": [
       "                      sp|P60880|SNP25_HUMAN  sp|P60880-2|SNP25_HUMAN  \\\n",
       "79346193818611200                  1.000000                 1.000000   \n",
       "168240307515063181                 1.510826                 1.510826   \n",
       "357295714612793700                 1.510826                 1.510826   \n",
       "641852037324162118                 1.510826                 1.510826   \n",
       "757825252518801166                 1.510826                 1.510826   \n",
       "...                                     ...                      ...   \n",
       "15743546848986775135               0.000000                 1.916291   \n",
       "15861183366162130000               0.000000                 1.916291   \n",
       "16118309445659596513               0.000000                 1.916291   \n",
       "18008872121808310705               0.000000                 1.510826   \n",
       "18170310193389148668               0.000000                 1.510826   \n",
       "\n",
       "                      snap25a_mxe_exon_human  snap25b_mxe_exon_human  \n",
       "79346193818611200                   1.000000                     1.0  \n",
       "168240307515063181                  0.000000                     0.0  \n",
       "357295714612793700                  0.000000                     0.0  \n",
       "641852037324162118                  0.000000                     0.0  \n",
       "757825252518801166                  0.000000                     0.0  \n",
       "...                                      ...                     ...  \n",
       "15743546848986775135                0.000000                     0.0  \n",
       "15861183366162130000                0.000000                     0.0  \n",
       "16118309445659596513                0.000000                     0.0  \n",
       "18008872121808310705                1.510826                     0.0  \n",
       "18170310193389148668                1.510826                     0.0  \n",
       "\n",
       "[233 rows x 4 columns]"
      ]
     },
     "execution_count": 70,
     "metadata": {},
     "output_type": "execute_result"
    }
   ],
   "source": [
    "snap25_idf_per_sample = snap25_freqs[snap25_freqs == 0]\n",
    "snap25_idf_per_sample = snap25_idf_per_sample.apply(\n",
    "    lambda x: x.fillna(snap25_idf_smooth)\n",
    ")\n",
    "snap25_idf_per_sample"
   ]
  },
  {
   "cell_type": "markdown",
   "id": "6107a19c-b3d9-4647-a8e2-2a4aa48fb770",
   "metadata": {},
   "source": [
    "### Take the dot product of snap25 frequencies times the idf per samples, to get the tf-idf score for each comparison"
   ]
  },
  {
   "cell_type": "code",
   "execution_count": 71,
   "id": "e7e4cc75-452c-4d58-a3e5-0971301f0a2d",
   "metadata": {},
   "outputs": [
    {
     "data": {
      "text/html": [
       "<div>\n",
       "<style scoped>\n",
       "    .dataframe tbody tr th:only-of-type {\n",
       "        vertical-align: middle;\n",
       "    }\n",
       "\n",
       "    .dataframe tbody tr th {\n",
       "        vertical-align: top;\n",
       "    }\n",
       "\n",
       "    .dataframe thead th {\n",
       "        text-align: right;\n",
       "    }\n",
       "</style>\n",
       "<table border=\"1\" class=\"dataframe\">\n",
       "  <thead>\n",
       "    <tr style=\"text-align: right;\">\n",
       "      <th></th>\n",
       "      <th>sp|P60880|SNP25_HUMAN</th>\n",
       "      <th>sp|P60880-2|SNP25_HUMAN</th>\n",
       "      <th>snap25a_mxe_exon_human</th>\n",
       "      <th>snap25b_mxe_exon_human</th>\n",
       "    </tr>\n",
       "  </thead>\n",
       "  <tbody>\n",
       "    <tr>\n",
       "      <th>sp|P60880|SNP25_HUMAN</th>\n",
       "      <td>1.514239</td>\n",
       "      <td>1.266322</td>\n",
       "      <td>0.024752</td>\n",
       "      <td>0.196777</td>\n",
       "    </tr>\n",
       "    <tr>\n",
       "      <th>sp|P60880-2|SNP25_HUMAN</th>\n",
       "      <td>1.266322</td>\n",
       "      <td>1.514239</td>\n",
       "      <td>0.196777</td>\n",
       "      <td>0.024752</td>\n",
       "    </tr>\n",
       "    <tr>\n",
       "      <th>snap25a_mxe_exon_human</th>\n",
       "      <td>0.178571</td>\n",
       "      <td>1.419607</td>\n",
       "      <td>1.419607</td>\n",
       "      <td>0.178571</td>\n",
       "    </tr>\n",
       "    <tr>\n",
       "      <th>snap25b_mxe_exon_human</th>\n",
       "      <td>1.419607</td>\n",
       "      <td>0.178571</td>\n",
       "      <td>0.178571</td>\n",
       "      <td>1.419607</td>\n",
       "    </tr>\n",
       "  </tbody>\n",
       "</table>\n",
       "</div>"
      ],
      "text/plain": [
       "                         sp|P60880|SNP25_HUMAN  sp|P60880-2|SNP25_HUMAN  \\\n",
       "sp|P60880|SNP25_HUMAN                 1.514239                 1.266322   \n",
       "sp|P60880-2|SNP25_HUMAN               1.266322                 1.514239   \n",
       "snap25a_mxe_exon_human                0.178571                 1.419607   \n",
       "snap25b_mxe_exon_human                1.419607                 0.178571   \n",
       "\n",
       "                         snap25a_mxe_exon_human  snap25b_mxe_exon_human  \n",
       "sp|P60880|SNP25_HUMAN                  0.024752                0.196777  \n",
       "sp|P60880-2|SNP25_HUMAN                0.196777                0.024752  \n",
       "snap25a_mxe_exon_human                 1.419607                0.178571  \n",
       "snap25b_mxe_exon_human                 0.178571                1.419607  "
      ]
     },
     "execution_count": 71,
     "metadata": {},
     "output_type": "execute_result"
    }
   ],
   "source": [
    "snap25_tf_idf_scores = snap25_freqs.T.dot(snap25_idf_per_sample)\n",
    "# snap25_tf_idf_scores.index.name = None\n",
    "# snap25_tf_idf_scores.columns.name = 'match'\n",
    "snap25_tf_idf_scores.name = \"tf_idf_score\"\n",
    "snap25_tf_idf_scores"
   ]
  },
  {
   "cell_type": "code",
   "execution_count": 72,
   "id": "303ded19-e385-4930-bb3f-f4c980029b7f",
   "metadata": {},
   "outputs": [
    {
     "data": {
      "text/html": [
       "<div>\n",
       "<style scoped>\n",
       "    .dataframe tbody tr th:only-of-type {\n",
       "        vertical-align: middle;\n",
       "    }\n",
       "\n",
       "    .dataframe tbody tr th {\n",
       "        vertical-align: top;\n",
       "    }\n",
       "\n",
       "    .dataframe thead th {\n",
       "        text-align: right;\n",
       "    }\n",
       "</style>\n",
       "<table border=\"1\" class=\"dataframe\">\n",
       "  <thead>\n",
       "    <tr style=\"text-align: right;\">\n",
       "      <th></th>\n",
       "      <th>level_0</th>\n",
       "      <th>level_1</th>\n",
       "      <th>0</th>\n",
       "    </tr>\n",
       "  </thead>\n",
       "  <tbody>\n",
       "    <tr>\n",
       "      <th>10</th>\n",
       "      <td>snap25a_mxe_exon_human</td>\n",
       "      <td>snap25a_mxe_exon_human</td>\n",
       "      <td>1.419607</td>\n",
       "    </tr>\n",
       "    <tr>\n",
       "      <th>11</th>\n",
       "      <td>snap25a_mxe_exon_human</td>\n",
       "      <td>snap25b_mxe_exon_human</td>\n",
       "      <td>0.178571</td>\n",
       "    </tr>\n",
       "    <tr>\n",
       "      <th>9</th>\n",
       "      <td>snap25a_mxe_exon_human</td>\n",
       "      <td>sp|P60880-2|SNP25_HUMAN</td>\n",
       "      <td>1.419607</td>\n",
       "    </tr>\n",
       "    <tr>\n",
       "      <th>8</th>\n",
       "      <td>snap25a_mxe_exon_human</td>\n",
       "      <td>sp|P60880|SNP25_HUMAN</td>\n",
       "      <td>0.178571</td>\n",
       "    </tr>\n",
       "    <tr>\n",
       "      <th>14</th>\n",
       "      <td>snap25b_mxe_exon_human</td>\n",
       "      <td>snap25a_mxe_exon_human</td>\n",
       "      <td>0.178571</td>\n",
       "    </tr>\n",
       "    <tr>\n",
       "      <th>15</th>\n",
       "      <td>snap25b_mxe_exon_human</td>\n",
       "      <td>snap25b_mxe_exon_human</td>\n",
       "      <td>1.419607</td>\n",
       "    </tr>\n",
       "    <tr>\n",
       "      <th>13</th>\n",
       "      <td>snap25b_mxe_exon_human</td>\n",
       "      <td>sp|P60880-2|SNP25_HUMAN</td>\n",
       "      <td>0.178571</td>\n",
       "    </tr>\n",
       "    <tr>\n",
       "      <th>12</th>\n",
       "      <td>snap25b_mxe_exon_human</td>\n",
       "      <td>sp|P60880|SNP25_HUMAN</td>\n",
       "      <td>1.419607</td>\n",
       "    </tr>\n",
       "    <tr>\n",
       "      <th>6</th>\n",
       "      <td>sp|P60880-2|SNP25_HUMAN</td>\n",
       "      <td>snap25a_mxe_exon_human</td>\n",
       "      <td>0.196777</td>\n",
       "    </tr>\n",
       "    <tr>\n",
       "      <th>7</th>\n",
       "      <td>sp|P60880-2|SNP25_HUMAN</td>\n",
       "      <td>snap25b_mxe_exon_human</td>\n",
       "      <td>0.024752</td>\n",
       "    </tr>\n",
       "    <tr>\n",
       "      <th>5</th>\n",
       "      <td>sp|P60880-2|SNP25_HUMAN</td>\n",
       "      <td>sp|P60880-2|SNP25_HUMAN</td>\n",
       "      <td>1.514239</td>\n",
       "    </tr>\n",
       "    <tr>\n",
       "      <th>4</th>\n",
       "      <td>sp|P60880-2|SNP25_HUMAN</td>\n",
       "      <td>sp|P60880|SNP25_HUMAN</td>\n",
       "      <td>1.266322</td>\n",
       "    </tr>\n",
       "    <tr>\n",
       "      <th>2</th>\n",
       "      <td>sp|P60880|SNP25_HUMAN</td>\n",
       "      <td>snap25a_mxe_exon_human</td>\n",
       "      <td>0.024752</td>\n",
       "    </tr>\n",
       "    <tr>\n",
       "      <th>3</th>\n",
       "      <td>sp|P60880|SNP25_HUMAN</td>\n",
       "      <td>snap25b_mxe_exon_human</td>\n",
       "      <td>0.196777</td>\n",
       "    </tr>\n",
       "    <tr>\n",
       "      <th>1</th>\n",
       "      <td>sp|P60880|SNP25_HUMAN</td>\n",
       "      <td>sp|P60880-2|SNP25_HUMAN</td>\n",
       "      <td>1.266322</td>\n",
       "    </tr>\n",
       "    <tr>\n",
       "      <th>0</th>\n",
       "      <td>sp|P60880|SNP25_HUMAN</td>\n",
       "      <td>sp|P60880|SNP25_HUMAN</td>\n",
       "      <td>1.514239</td>\n",
       "    </tr>\n",
       "  </tbody>\n",
       "</table>\n",
       "</div>"
      ],
      "text/plain": [
       "                    level_0                  level_1         0\n",
       "10   snap25a_mxe_exon_human   snap25a_mxe_exon_human  1.419607\n",
       "11   snap25a_mxe_exon_human   snap25b_mxe_exon_human  0.178571\n",
       "9    snap25a_mxe_exon_human  sp|P60880-2|SNP25_HUMAN  1.419607\n",
       "8    snap25a_mxe_exon_human    sp|P60880|SNP25_HUMAN  0.178571\n",
       "14   snap25b_mxe_exon_human   snap25a_mxe_exon_human  0.178571\n",
       "15   snap25b_mxe_exon_human   snap25b_mxe_exon_human  1.419607\n",
       "13   snap25b_mxe_exon_human  sp|P60880-2|SNP25_HUMAN  0.178571\n",
       "12   snap25b_mxe_exon_human    sp|P60880|SNP25_HUMAN  1.419607\n",
       "6   sp|P60880-2|SNP25_HUMAN   snap25a_mxe_exon_human  0.196777\n",
       "7   sp|P60880-2|SNP25_HUMAN   snap25b_mxe_exon_human  0.024752\n",
       "5   sp|P60880-2|SNP25_HUMAN  sp|P60880-2|SNP25_HUMAN  1.514239\n",
       "4   sp|P60880-2|SNP25_HUMAN    sp|P60880|SNP25_HUMAN  1.266322\n",
       "2     sp|P60880|SNP25_HUMAN   snap25a_mxe_exon_human  0.024752\n",
       "3     sp|P60880|SNP25_HUMAN   snap25b_mxe_exon_human  0.196777\n",
       "1     sp|P60880|SNP25_HUMAN  sp|P60880-2|SNP25_HUMAN  1.266322\n",
       "0     sp|P60880|SNP25_HUMAN    sp|P60880|SNP25_HUMAN  1.514239"
      ]
     },
     "execution_count": 72,
     "metadata": {},
     "output_type": "execute_result"
    }
   ],
   "source": [
    "snap25_tf_idf_scores.stack().reset_index().sort_values([\"level_0\", \"level_1\"])"
   ]
  },
  {
   "cell_type": "code",
   "execution_count": null,
   "id": "ce3892cd-02e1-41c9-8666-d7baadae67dc",
   "metadata": {},
   "outputs": [],
   "source": []
  },
  {
   "cell_type": "code",
   "execution_count": null,
   "id": "22d0e36e-d2d1-4582-8e41-c220e4f89ead",
   "metadata": {},
   "outputs": [],
   "source": []
  }
 ],
 "metadata": {
  "kernelspec": {
   "display_name": "Python [conda env:2024-sourmash-branchwater-tf-idf]",
   "language": "python",
   "name": "conda-env-2024-sourmash-branchwater-tf-idf-py"
  },
  "language_info": {
   "codemirror_mode": {
    "name": "ipython",
    "version": 3
   },
   "file_extension": ".py",
   "mimetype": "text/x-python",
   "name": "python",
   "nbconvert_exporter": "python",
   "pygments_lexer": "ipython3",
   "version": "3.12.6"
  }
 },
 "nbformat": 4,
 "nbformat_minor": 5
}
