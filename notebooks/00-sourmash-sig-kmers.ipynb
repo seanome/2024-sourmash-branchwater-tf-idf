{
 "cells": [
  {
   "cell_type": "code",
   "execution_count": 8,
   "id": "cc61119e-ce49-4660-8711-a9f6f4823430",
   "metadata": {},
   "outputs": [
    {
     "name": "stdout",
     "output_type": "stream",
     "text": [
      "usage: \n",
      "\n",
      "### `sourmash signature kmers` - extract k-mers and/or sequences that match to signatures\n",
      "\n",
      "Given one or more compatible sketches and some sequence files, extract\n",
      "the k-mers and/or sequences corresponding to the hash values in the\n",
      "sketch. Because the sourmash hash function is one-way, this requires\n",
      "FASTA or FASTQ sequence files in addition to the sketch.\n",
      "\n",
      "For example,\n",
      "\n",
      "sourmash sig kmers --signatures sig1.sig --sequences seqfile.fasta     --save-sequences matches.fasta --save-kmers kmer-matches.csv\n",
      "\n",
      "will search `seqfile.fasta` for matching sequences and k-mers,\n",
      "and produce two files. The file `matches.fasta` will contain FASTA\n",
      "sequences that match the hashes in the input signature, while the\n",
      "file `kmer-matches.csv` provides the matching k-mers and hash values,\n",
      "together with their originating filename and sequence name.\n",
      "\n",
      "If the sketch is a protein sketch (protein, dayhoff, or hp), then\n",
      "the input sequences are assumed to be protein. To search DNA sequences\n",
      "for translated protein hashes, provide the `--translate` flag to `sig kmers`.\n",
      "\n",
      "`--save-sequences` and `--save-kmers` are both optional.  If neither are\n",
      "given, basic statistics on k-mer matching are given.\n",
      "\n",
      "Please note that `--save-kmers` can be very slow on large files!\n",
      "\n",
      "The input sketches are the source of the input hashes.  So, for example,\n",
      "If `--scaled=1` sketches are provided, `sig kmers` can be used to\n",
      "yield all the k-mers and their matching hashes.  Likewise, if the\n",
      "sketch is built from the intersection of two other sketches, only\n",
      "the k-mers and hash values present in both sketches will be used.\n",
      "\n",
      "Likewise, the input sequences are used for matching; they do not need\n",
      "to be the same sequences that were used to create the sketches.\n",
      "Input sequences can be in FASTA or FASTQ format, and either flat text\n",
      "or compressed with gzip or bzip2; formats are auto-detected.\n",
      "\n",
      "By default, `sig kmers` ignores bad k-mers (e.g. non-ACGT characters\n",
      "in DNA). If `--check-sequence` is provided, `sig kmers` will error\n",
      "exit on the first bad k-mer.  If `--check-sequence --force` is provided,\n",
      "`sig kmers` will provide error messages (and skip bad sequences), but\n",
      "will continue processing input sequences.\n",
      " kmers: error: the following arguments are required: --sequences\n"
     ]
    }
   ],
   "source": [
    "! sourmash sig kmers"
   ]
  },
  {
   "cell_type": "code",
   "execution_count": 9,
   "id": "ad5baa98-848f-4a0a-91c0-b59669cbebb3",
   "metadata": {},
   "outputs": [
    {
     "name": "stdout",
     "output_type": "stream",
     "text": [
      "sourmash 4.8.11\n"
     ]
    }
   ],
   "source": [
    "! sourmash --version"
   ]
  },
  {
   "cell_type": "code",
   "execution_count": 10,
   "id": "ea36f902-3f6a-4801-a01f-48bbf741fcef",
   "metadata": {},
   "outputs": [
    {
     "data": {
      "text/plain": [
       "'/home/ec2-user/2024-sourmash-branchwater-tf-idf'"
      ]
     },
     "execution_count": 10,
     "metadata": {},
     "output_type": "execute_result"
    }
   ],
   "source": [
    "pwd"
   ]
  },
  {
   "cell_type": "code",
   "execution_count": 15,
   "id": "72b8476f-cad4-43e5-8ca4-2a0b19a17a13",
   "metadata": {},
   "outputs": [],
   "source": [
    "# need to change to relative up directory later .. for now it's a child directory\n",
    "TESTDATA = \"testdata\""
   ]
  },
  {
   "cell_type": "code",
   "execution_count": 16,
   "id": "30d3eea4-766c-4f05-a0a4-5ec114901a85",
   "metadata": {},
   "outputs": [
    {
     "name": "stdout",
     "output_type": "stream",
     "text": [
      "\u001b[K\n",
      "== This is sourmash version 4.8.11. ==\n",
      "\u001b[K== Please cite Irber et. al (2024), doi:10.21105/joss.06830. ==\n",
      "\n",
      "---\n",
      "signature filename: testdata/2.fa.sig.gz\n",
      "signature: CP001071.1 Akkermansia muciniphila ATCC BAA-835, complete genome\n",
      "source file: podar-ref/2.fa\n",
      "md5: f3a90d4e5528864a5bcc8434b0d0c3b1\n",
      "k=31 molecule=DNA num=0 scaled=1000 seed=42 track_abundance=0\n",
      "size: 2701\n",
      "sum hashes: 2701\n",
      "signature license: CC0\n",
      "\n",
      "\u001b[Kloaded 1 signatures total, from 1 files.sig.gz'\n"
     ]
    }
   ],
   "source": [
    "! sourmash sig describe $TESTDATA/2.fa.sig.gz"
   ]
  },
  {
   "cell_type": "code",
   "execution_count": 21,
   "id": "81666178-df9b-4bf2-8ae9-0052667840ea",
   "metadata": {},
   "outputs": [
    {
     "name": "stdout",
     "output_type": "stream",
     "text": [
      "\u001b[K\n",
      "== This is sourmash version 4.8.11. ==\n",
      "\u001b[K== Please cite Irber et. al (2024), doi:10.21105/joss.06830. ==\n",
      "\n",
      "\u001b[Kloaded 1 signatures total, from 1 files.sig.gz'\n",
      "\u001b[Kloaded and merged 1 signatures\n",
      "\u001b[K\n",
      "\u001b[Kmerged signature has the following properties:\n",
      "\u001b[Kk=31 molecule=DNA num=0 scaled=1000 seed=42\n",
      "\u001b[Ktotal hashes in merged signature: 2701\n",
      "\u001b[K\n",
      "\u001b[Know processing sequence files for matches!\n",
      "\u001b[Kopening sequence file 'testdata/sequences.fasta'\n",
      "\u001b[K... searched 2948996 from 1 files so far\n",
      "\u001b[KDONE.\n",
      "\u001b[Ksearched 5 sequences from 1 files, containing a total of 2.9 Mbp.\n",
      "\u001b[Kmatched and saved a total of 2744 k-mers.\n",
      "\u001b[Kfound 2701 distinct matching hashes (100.0%)\n"
     ]
    }
   ],
   "source": [
    "! sourmash sig kmers \\\n",
    "    --signatures $TESTDATA/2.fa.sig.gz \\\n",
    "    --sequences $TESTDATA/sequences.fasta \\\n",
    "    --save-kmers $TESTDATA/2.fa.kmer-matches.csv"
   ]
  },
  {
   "cell_type": "code",
   "execution_count": 22,
   "id": "2bc0a669-1b6d-4cf4-8ea8-38d39c0474e0",
   "metadata": {},
   "outputs": [
    {
     "name": "stdout",
     "output_type": "stream",
     "text": [
      "\u001b[K\n",
      "== This is sourmash version 4.8.11. ==\n",
      "\u001b[K== Please cite Irber et. al (2024), doi:10.21105/joss.06830. ==\n",
      "\n",
      "\u001b[Kloaded 1 signatures total, from 1 filesa.sig.gz'\n",
      "\u001b[Kloaded and merged 1 signatures\n",
      "\u001b[K\n",
      "\u001b[Kmerged signature has the following properties:\n",
      "\u001b[Kk=31 molecule=DNA num=0 scaled=1000 seed=42\n",
      "\u001b[Ktotal hashes in merged signature: 5177\n",
      "\u001b[K\n",
      "\u001b[Know processing sequence files for matches!\n",
      "\u001b[Kopening sequence file 'testdata/sequences.fasta'\n",
      "\u001b[K... searched 2948996 from 1 files so far\n",
      "\u001b[KDONE.\n",
      "\u001b[Ksearched 5 sequences from 1 files, containing a total of 2.9 Mbp.\n",
      "\u001b[Kmatched and saved a total of 178 k-mers.\n",
      "\u001b[Kfound 65 distinct matching hashes (1.3%)\n"
     ]
    }
   ],
   "source": [
    "! sourmash sig kmers \\\n",
    "    --signatures $TESTDATA/47.fa.sig.gz \\\n",
    "    --sequences $TESTDATA/sequences.fasta \\\n",
    "    --save-kmers $TESTDATA/47.fa.kmer-matches.csv"
   ]
  },
  {
   "cell_type": "code",
   "execution_count": 23,
   "id": "e9c0875c-a35c-4237-ad4a-b8bced0e821f",
   "metadata": {},
   "outputs": [
    {
     "name": "stdout",
     "output_type": "stream",
     "text": [
      "\u001b[K\n",
      "== This is sourmash version 4.8.11. ==\n",
      "\u001b[K== Please cite Irber et. al (2024), doi:10.21105/joss.06830. ==\n",
      "\n",
      "\u001b[Kloaded 1 signatures total, from 1 filesa.sig.gz'\n",
      "\u001b[Kloaded and merged 1 signatures\n",
      "\u001b[K\n",
      "\u001b[Kmerged signature has the following properties:\n",
      "\u001b[Kk=31 molecule=DNA num=0 scaled=1000 seed=42\n",
      "\u001b[Ktotal hashes in merged signature: 5238\n",
      "\u001b[K\n",
      "\u001b[Know processing sequence files for matches!\n",
      "\u001b[Kopening sequence file 'testdata/sequences.fasta'\n",
      "\u001b[K... searched 2948996 from 1 files so far\n",
      "\u001b[KDONE.\n",
      "\u001b[Ksearched 5 sequences from 1 files, containing a total of 2.9 Mbp.\n",
      "\u001b[Kmatched and saved a total of 240 k-mers.\n",
      "\u001b[Kfound 96 distinct matching hashes (1.8%)\n"
     ]
    }
   ],
   "source": [
    "! sourmash sig kmers \\\n",
    "    --signatures $TESTDATA/63.fa.sig.gz \\\n",
    "    --sequences $TESTDATA/sequences.fasta \\\n",
    "    --save-kmers $TESTDATA/63.fa.kmer-matches.csv"
   ]
  },
  {
   "cell_type": "code",
   "execution_count": 24,
   "id": "6b74caba-bd32-4255-a0a3-b5ae751bf9c6",
   "metadata": {},
   "outputs": [
    {
     "name": "stdout",
     "output_type": "stream",
     "text": [
      "\u001b[K\n",
      "== This is sourmash version 4.8.11. ==\n",
      "\u001b[K== Please cite Irber et. al (2024), doi:10.21105/joss.06830. ==\n",
      "\n",
      "---\n",
      "signature filename: testdata/2.fa.sig.gz\n",
      "signature: CP001071.1 Akkermansia muciniphila ATCC BAA-835, complete genome\n",
      "source file: podar-ref/2.fa\n",
      "md5: f3a90d4e5528864a5bcc8434b0d0c3b1\n",
      "k=31 molecule=DNA num=0 scaled=1000 seed=42 track_abundance=0\n",
      "size: 2701\n",
      "sum hashes: 2701\n",
      "signature license: CC0\n",
      "\n",
      "---loaded 1 signatures from 'testdata/2.fa.sig.gz'\n",
      "signature filename: testdata/47.fa.sig.gz\n",
      "signature: NC_009661.1 Shewanella baltica OS185 plasmid pS18501, complete sequence\n",
      "source file: podar-ref/47.fa\n",
      "md5: 09a08691ce52952152f0e866a59f6261\n",
      "k=31 molecule=DNA num=0 scaled=1000 seed=42 track_abundance=0\n",
      "size: 5177\n",
      "sum hashes: 5177\n",
      "signature license: CC0\n",
      "\n",
      "---loaded 1 signatures from 'testdata/47.fa.sig.gz'\n",
      "signature filename: testdata/63.fa.sig.gz\n",
      "signature: NC_011665.1 Shewanella baltica OS223 plasmid pS22303, complete sequence\n",
      "source file: podar-ref/63.fa\n",
      "md5: 38729c6374925585db28916b82a6f513\n",
      "k=31 molecule=DNA num=0 scaled=1000 seed=42 track_abundance=0\n",
      "size: 5238\n",
      "sum hashes: 5238\n",
      "signature license: CC0\n",
      "\n",
      "\u001b[Kloaded 3 signatures total, from 3 filesa.sig.gz'\n"
     ]
    }
   ],
   "source": [
    "! sourmash sig describe $TESTDATA/*.fa.sig.gz"
   ]
  },
  {
   "cell_type": "code",
   "execution_count": null,
   "id": "2cd38b3e-6704-4643-8349-e14c37f6a1aa",
   "metadata": {},
   "outputs": [],
   "source": []
  }
 ],
 "metadata": {
  "kernelspec": {
   "display_name": "Python 3 (ipykernel)",
   "language": "python",
   "name": "python3"
  },
  "language_info": {
   "codemirror_mode": {
    "name": "ipython",
    "version": 3
   },
   "file_extension": ".py",
   "mimetype": "text/x-python",
   "name": "python",
   "nbconvert_exporter": "python",
   "pygments_lexer": "ipython3",
   "version": "3.12.6"
  }
 },
 "nbformat": 4,
 "nbformat_minor": 5
}
