{
 "cells": [
  {
   "cell_type": "code",
   "execution_count": 34,
   "id": "eb03eb31-74cb-4487-8bfb-23472299d32a",
   "metadata": {},
   "outputs": [],
   "source": [
    "import pandas as pd\n",
    "from sklearn.feature_extraction.text import TfidfTransformer, TfidfVectorizer, CountVectorizer"
   ]
  },
  {
   "cell_type": "code",
   "execution_count": 19,
   "id": "dac83d6e-4a30-4c7a-9296-fbb0200c3ab4",
   "metadata": {},
   "outputs": [
    {
     "name": "stdout",
     "output_type": "stream",
     "text": [
      "(2744, 4)\n"
     ]
    },
    {
     "data": {
      "text/html": [
       "<div>\n",
       "<style scoped>\n",
       "    .dataframe tbody tr th:only-of-type {\n",
       "        vertical-align: middle;\n",
       "    }\n",
       "\n",
       "    .dataframe tbody tr th {\n",
       "        vertical-align: top;\n",
       "    }\n",
       "\n",
       "    .dataframe thead th {\n",
       "        text-align: right;\n",
       "    }\n",
       "</style>\n",
       "<table border=\"1\" class=\"dataframe\">\n",
       "  <thead>\n",
       "    <tr style=\"text-align: right;\">\n",
       "      <th></th>\n",
       "      <th>sequence_file</th>\n",
       "      <th>sequence_name</th>\n",
       "      <th>kmer</th>\n",
       "      <th>hashval</th>\n",
       "    </tr>\n",
       "  </thead>\n",
       "  <tbody>\n",
       "    <tr>\n",
       "      <th>0</th>\n",
       "      <td>testdata/sequences.fasta</td>\n",
       "      <td>CP001071.1 Akkermansia muciniphila ATCC BAA-83...</td>\n",
       "      <td>CATCTAAAACCCATTTCCCCCCCCTCCGCCG</td>\n",
       "      <td>18428501249114229</td>\n",
       "    </tr>\n",
       "    <tr>\n",
       "      <th>1</th>\n",
       "      <td>testdata/sequences.fasta</td>\n",
       "      <td>CP001071.1 Akkermansia muciniphila ATCC BAA-83...</td>\n",
       "      <td>TTAACCCGGCGCACGTATTCCCACCTCCCCT</td>\n",
       "      <td>12133950630741558</td>\n",
       "    </tr>\n",
       "    <tr>\n",
       "      <th>2</th>\n",
       "      <td>testdata/sequences.fasta</td>\n",
       "      <td>CP001071.1 Akkermansia muciniphila ATCC BAA-83...</td>\n",
       "      <td>GACCACCGCCGCTGGAAACACTGACTCATCC</td>\n",
       "      <td>6824970562632039</td>\n",
       "    </tr>\n",
       "    <tr>\n",
       "      <th>3</th>\n",
       "      <td>testdata/sequences.fasta</td>\n",
       "      <td>CP001071.1 Akkermansia muciniphila ATCC BAA-83...</td>\n",
       "      <td>GCATGCGTTCTCTGCTTGAGGAGTACGAACG</td>\n",
       "      <td>6636795919657747</td>\n",
       "    </tr>\n",
       "    <tr>\n",
       "      <th>4</th>\n",
       "      <td>testdata/sequences.fasta</td>\n",
       "      <td>CP001071.1 Akkermansia muciniphila ATCC BAA-83...</td>\n",
       "      <td>ACACGTACTCCACCAGCATCGTGGACGCATT</td>\n",
       "      <td>5650238706234368</td>\n",
       "    </tr>\n",
       "  </tbody>\n",
       "</table>\n",
       "</div>"
      ],
      "text/plain": [
       "              sequence_file  \\\n",
       "0  testdata/sequences.fasta   \n",
       "1  testdata/sequences.fasta   \n",
       "2  testdata/sequences.fasta   \n",
       "3  testdata/sequences.fasta   \n",
       "4  testdata/sequences.fasta   \n",
       "\n",
       "                                       sequence_name  \\\n",
       "0  CP001071.1 Akkermansia muciniphila ATCC BAA-83...   \n",
       "1  CP001071.1 Akkermansia muciniphila ATCC BAA-83...   \n",
       "2  CP001071.1 Akkermansia muciniphila ATCC BAA-83...   \n",
       "3  CP001071.1 Akkermansia muciniphila ATCC BAA-83...   \n",
       "4  CP001071.1 Akkermansia muciniphila ATCC BAA-83...   \n",
       "\n",
       "                              kmer            hashval  \n",
       "0  CATCTAAAACCCATTTCCCCCCCCTCCGCCG  18428501249114229  \n",
       "1  TTAACCCGGCGCACGTATTCCCACCTCCCCT  12133950630741558  \n",
       "2  GACCACCGCCGCTGGAAACACTGACTCATCC   6824970562632039  \n",
       "3  GCATGCGTTCTCTGCTTGAGGAGTACGAACG   6636795919657747  \n",
       "4  ACACGTACTCCACCAGCATCGTGGACGCATT   5650238706234368  "
      ]
     },
     "execution_count": 19,
     "metadata": {},
     "output_type": "execute_result"
    }
   ],
   "source": [
    "testdata = '../testdata'\n",
    "\n",
    "kmers_2 = pd.read_csv(f'{testdata}/2.fa.kmer-matches.csv')\n",
    "print(kmers_2.shape)\n",
    "kmers_2.head()"
   ]
  },
  {
   "cell_type": "code",
   "execution_count": 20,
   "id": "374e8634-19bf-47ba-a3e1-bd715006fb40",
   "metadata": {},
   "outputs": [
    {
     "name": "stdout",
     "output_type": "stream",
     "text": [
      "(178, 4)\n"
     ]
    },
    {
     "data": {
      "text/html": [
       "<div>\n",
       "<style scoped>\n",
       "    .dataframe tbody tr th:only-of-type {\n",
       "        vertical-align: middle;\n",
       "    }\n",
       "\n",
       "    .dataframe tbody tr th {\n",
       "        vertical-align: top;\n",
       "    }\n",
       "\n",
       "    .dataframe thead th {\n",
       "        text-align: right;\n",
       "    }\n",
       "</style>\n",
       "<table border=\"1\" class=\"dataframe\">\n",
       "  <thead>\n",
       "    <tr style=\"text-align: right;\">\n",
       "      <th></th>\n",
       "      <th>sequence_file</th>\n",
       "      <th>sequence_name</th>\n",
       "      <th>kmer</th>\n",
       "      <th>hashval</th>\n",
       "    </tr>\n",
       "  </thead>\n",
       "  <tbody>\n",
       "    <tr>\n",
       "      <th>0</th>\n",
       "      <td>testdata/sequences.fasta</td>\n",
       "      <td>NC_011665.1 Shewanella baltica OS223 plasmid p...</td>\n",
       "      <td>ACTCACCTCTAGCCTACGCCTCATATGATGT</td>\n",
       "      <td>12868775358248804</td>\n",
       "    </tr>\n",
       "    <tr>\n",
       "      <th>1</th>\n",
       "      <td>testdata/sequences.fasta</td>\n",
       "      <td>NC_011665.1 Shewanella baltica OS223 plasmid p...</td>\n",
       "      <td>TCGCTGGTTAAACGCAAAGTAATTGGACTGA</td>\n",
       "      <td>13894176996423815</td>\n",
       "    </tr>\n",
       "    <tr>\n",
       "      <th>2</th>\n",
       "      <td>testdata/sequences.fasta</td>\n",
       "      <td>NC_011665.1 Shewanella baltica OS223 plasmid p...</td>\n",
       "      <td>CAAGAAGCTGGATGAATTAGAAATGCGGTTA</td>\n",
       "      <td>12574953991866005</td>\n",
       "    </tr>\n",
       "    <tr>\n",
       "      <th>3</th>\n",
       "      <td>testdata/sequences.fasta</td>\n",
       "      <td>NC_011665.1 Shewanella baltica OS223 plasmid p...</td>\n",
       "      <td>TTAATCGGCTTTACCGTAGCCATGATCAGTA</td>\n",
       "      <td>16887131664281014</td>\n",
       "    </tr>\n",
       "    <tr>\n",
       "      <th>4</th>\n",
       "      <td>testdata/sequences.fasta</td>\n",
       "      <td>NC_011665.1 Shewanella baltica OS223 plasmid p...</td>\n",
       "      <td>TCTCGTCAAAATAACGGGCACGTTAAACAAA</td>\n",
       "      <td>7987424295175338</td>\n",
       "    </tr>\n",
       "  </tbody>\n",
       "</table>\n",
       "</div>"
      ],
      "text/plain": [
       "              sequence_file  \\\n",
       "0  testdata/sequences.fasta   \n",
       "1  testdata/sequences.fasta   \n",
       "2  testdata/sequences.fasta   \n",
       "3  testdata/sequences.fasta   \n",
       "4  testdata/sequences.fasta   \n",
       "\n",
       "                                       sequence_name  \\\n",
       "0  NC_011665.1 Shewanella baltica OS223 plasmid p...   \n",
       "1  NC_011665.1 Shewanella baltica OS223 plasmid p...   \n",
       "2  NC_011665.1 Shewanella baltica OS223 plasmid p...   \n",
       "3  NC_011665.1 Shewanella baltica OS223 plasmid p...   \n",
       "4  NC_011665.1 Shewanella baltica OS223 plasmid p...   \n",
       "\n",
       "                              kmer            hashval  \n",
       "0  ACTCACCTCTAGCCTACGCCTCATATGATGT  12868775358248804  \n",
       "1  TCGCTGGTTAAACGCAAAGTAATTGGACTGA  13894176996423815  \n",
       "2  CAAGAAGCTGGATGAATTAGAAATGCGGTTA  12574953991866005  \n",
       "3  TTAATCGGCTTTACCGTAGCCATGATCAGTA  16887131664281014  \n",
       "4  TCTCGTCAAAATAACGGGCACGTTAAACAAA   7987424295175338  "
      ]
     },
     "execution_count": 20,
     "metadata": {},
     "output_type": "execute_result"
    }
   ],
   "source": [
    "kmers_47 = pd.read_csv(f'{testdata}/47.fa.kmer-matches.csv')\n",
    "print(kmers_47.shape)\n",
    "kmers_47.head()"
   ]
  },
  {
   "cell_type": "code",
   "execution_count": 21,
   "id": "a4480695-6326-4293-af29-639460d8aabf",
   "metadata": {},
   "outputs": [
    {
     "name": "stdout",
     "output_type": "stream",
     "text": [
      "(240, 4)\n"
     ]
    },
    {
     "data": {
      "text/html": [
       "<div>\n",
       "<style scoped>\n",
       "    .dataframe tbody tr th:only-of-type {\n",
       "        vertical-align: middle;\n",
       "    }\n",
       "\n",
       "    .dataframe tbody tr th {\n",
       "        vertical-align: top;\n",
       "    }\n",
       "\n",
       "    .dataframe thead th {\n",
       "        text-align: right;\n",
       "    }\n",
       "</style>\n",
       "<table border=\"1\" class=\"dataframe\">\n",
       "  <thead>\n",
       "    <tr style=\"text-align: right;\">\n",
       "      <th></th>\n",
       "      <th>sequence_file</th>\n",
       "      <th>sequence_name</th>\n",
       "      <th>kmer</th>\n",
       "      <th>hashval</th>\n",
       "    </tr>\n",
       "  </thead>\n",
       "  <tbody>\n",
       "    <tr>\n",
       "      <th>0</th>\n",
       "      <td>testdata/sequences.fasta</td>\n",
       "      <td>NC_011665.1 Shewanella baltica OS223 plasmid p...</td>\n",
       "      <td>ATTTGATAAAAAACCTCCGTTCCATTAAGAT</td>\n",
       "      <td>10551722700063187</td>\n",
       "    </tr>\n",
       "    <tr>\n",
       "      <th>1</th>\n",
       "      <td>testdata/sequences.fasta</td>\n",
       "      <td>NC_011665.1 Shewanella baltica OS223 plasmid p...</td>\n",
       "      <td>ATGGACAATAAAGGAACAAGAACCAAGGATC</td>\n",
       "      <td>10071227734029562</td>\n",
       "    </tr>\n",
       "    <tr>\n",
       "      <th>2</th>\n",
       "      <td>testdata/sequences.fasta</td>\n",
       "      <td>NC_011665.1 Shewanella baltica OS223 plasmid p...</td>\n",
       "      <td>AGCCCAATGCTGATCATTCCCCTGCGCTGCA</td>\n",
       "      <td>13573812546471498</td>\n",
       "    </tr>\n",
       "    <tr>\n",
       "      <th>3</th>\n",
       "      <td>testdata/sequences.fasta</td>\n",
       "      <td>NC_011665.1 Shewanella baltica OS223 plasmid p...</td>\n",
       "      <td>GAGTTCTTTGTGCCAGGTCGTAGAATTACAG</td>\n",
       "      <td>385242214102144</td>\n",
       "    </tr>\n",
       "    <tr>\n",
       "      <th>4</th>\n",
       "      <td>testdata/sequences.fasta</td>\n",
       "      <td>NC_011665.1 Shewanella baltica OS223 plasmid p...</td>\n",
       "      <td>TATTGAAGAATATTCAGATGCTTTCCCTGCA</td>\n",
       "      <td>1658104204669725</td>\n",
       "    </tr>\n",
       "  </tbody>\n",
       "</table>\n",
       "</div>"
      ],
      "text/plain": [
       "              sequence_file  \\\n",
       "0  testdata/sequences.fasta   \n",
       "1  testdata/sequences.fasta   \n",
       "2  testdata/sequences.fasta   \n",
       "3  testdata/sequences.fasta   \n",
       "4  testdata/sequences.fasta   \n",
       "\n",
       "                                       sequence_name  \\\n",
       "0  NC_011665.1 Shewanella baltica OS223 plasmid p...   \n",
       "1  NC_011665.1 Shewanella baltica OS223 plasmid p...   \n",
       "2  NC_011665.1 Shewanella baltica OS223 plasmid p...   \n",
       "3  NC_011665.1 Shewanella baltica OS223 plasmid p...   \n",
       "4  NC_011665.1 Shewanella baltica OS223 plasmid p...   \n",
       "\n",
       "                              kmer            hashval  \n",
       "0  ATTTGATAAAAAACCTCCGTTCCATTAAGAT  10551722700063187  \n",
       "1  ATGGACAATAAAGGAACAAGAACCAAGGATC  10071227734029562  \n",
       "2  AGCCCAATGCTGATCATTCCCCTGCGCTGCA  13573812546471498  \n",
       "3  GAGTTCTTTGTGCCAGGTCGTAGAATTACAG    385242214102144  \n",
       "4  TATTGAAGAATATTCAGATGCTTTCCCTGCA   1658104204669725  "
      ]
     },
     "execution_count": 21,
     "metadata": {},
     "output_type": "execute_result"
    }
   ],
   "source": [
    "kmers_63 = pd.read_csv(f'{testdata}/63.fa.kmer-matches.csv')\n",
    "print(kmers_63.shape)\n",
    "kmers_63.head()"
   ]
  },
  {
   "cell_type": "code",
   "execution_count": 23,
   "id": "c21fad9f-88ff-4807-a500-628bd746c067",
   "metadata": {},
   "outputs": [
    {
     "data": {
      "text/plain": [
       "hashval\n",
       "13630191002096322    6\n",
       "13894176996423815    4\n",
       "7430512069482015     4\n",
       "12574953991866005    4\n",
       "16887131664281014    4\n",
       "                    ..\n",
       "12880367229968159    2\n",
       "11479308399516360    2\n",
       "15911665623700279    2\n",
       "16850886838136612    2\n",
       "8333295411468735     2\n",
       "Name: count, Length: 96, dtype: int64"
      ]
     },
     "execution_count": 23,
     "metadata": {},
     "output_type": "execute_result"
    }
   ],
   "source": [
    "kmers_63.hashval.value_counts()"
   ]
  },
  {
   "cell_type": "code",
   "execution_count": 24,
   "id": "bd1adb92-98ac-4e02-9a71-3aae5a0feea4",
   "metadata": {},
   "outputs": [
    {
     "data": {
      "text/plain": [
       "kmer\n",
       "TATCCGCAGGCATTTAAAGATGAAGCCGTCT    4\n",
       "ATGGACAATAAAGGAACAAGAACCAAGGATC    2\n",
       "ATTTGATAAAAAACCTCCGTTCCATTAAGAT    2\n",
       "GAGTTCTTTGTGCCAGGTCGTAGAATTACAG    2\n",
       "TATTGAAGAATATTCAGATGCTTTCCCTGCA    2\n",
       "                                  ..\n",
       "AACGGGTTTAGGAAAATCTGCGAACTATCGA    2\n",
       "GGCGCATTGTTGGCAAGAGTAACCCTGCGGA    2\n",
       "CTCAATAATCGGGTGGTATTGCTCAGCTAAT    2\n",
       "TTTGTTTAACGTGCCCGTTATTTTGACGAGA    2\n",
       "TACTGATCATGGCTACGGTAAAGCCGATTAA    2\n",
       "Name: count, Length: 119, dtype: int64"
      ]
     },
     "execution_count": 24,
     "metadata": {},
     "output_type": "execute_result"
    }
   ],
   "source": [
    "kmers_63.kmer.value_counts()"
   ]
  },
  {
   "cell_type": "code",
   "execution_count": 26,
   "id": "3d62d904-90ba-43d4-bafb-eab4ea0d8e5c",
   "metadata": {},
   "outputs": [],
   "source": [
    "corpus = [' '.join(map(str, kmers_2.hashval)), ' '.join(map(str, kmers_47.hashval)), ' '.join(map(str, kmers_63.hashval)), ]\n",
    "\n",
    "vectorizer = TfidfVectorizer()\n",
    "X = vectorizer.fit_transform(corpus)"
   ]
  },
  {
   "cell_type": "code",
   "execution_count": 27,
   "id": "fb524dcc-c7af-4b27-8b84-6157a40a4e85",
   "metadata": {},
   "outputs": [
    {
     "data": {
      "text/plain": [
       "array(['10003635611094380', '10004720045874964', '1001028632269369', ...,\n",
       "       '9987920310021958', '9990139941134371', '9994816441327197'],\n",
       "      dtype=object)"
      ]
     },
     "execution_count": 27,
     "metadata": {},
     "output_type": "execute_result"
    }
   ],
   "source": [
    "vectorizer.get_feature_names_out()"
   ]
  },
  {
   "cell_type": "code",
   "execution_count": 28,
   "id": "2396ef6f-a0c9-4f4e-aedf-cf5d102bbd79",
   "metadata": {},
   "outputs": [
    {
     "data": {
      "text/plain": [
       "(2819,)"
      ]
     },
     "execution_count": 28,
     "metadata": {},
     "output_type": "execute_result"
    }
   ],
   "source": [
    "vectorizer.get_feature_names_out().shape"
   ]
  },
  {
   "cell_type": "code",
   "execution_count": 29,
   "id": "98c39060-5dac-406a-b03f-4111c30965a6",
   "metadata": {},
   "outputs": [
    {
     "data": {
      "text/plain": [
       "array([1.69314718, 1.69314718, 1.69314718, ..., 1.69314718, 1.69314718,\n",
       "       1.69314718])"
      ]
     },
     "execution_count": 29,
     "metadata": {},
     "output_type": "execute_result"
    }
   ],
   "source": [
    "vectorizer.idf_"
   ]
  },
  {
   "cell_type": "code",
   "execution_count": 32,
   "id": "16b1a368-3581-4c82-9098-777036a2ff9a",
   "metadata": {},
   "outputs": [],
   "source": [
    "sample_names = [\n",
    "    # 2.fa.sig.gz\n",
    "    'CP001071.1', \n",
    "    \n",
    "    # 47.fa.sig.gz\n",
    "    'NC_009661.1', \n",
    "\n",
    "    # 63.fa.sig.gz\n",
    "    'NC_011665.1'\n",
    "]"
   ]
  },
  {
   "cell_type": "code",
   "execution_count": 33,
   "id": "40a1af17-f110-424d-86dc-754b6bf9dfa7",
   "metadata": {},
   "outputs": [
    {
     "data": {
      "text/html": [
       "<div>\n",
       "<style scoped>\n",
       "    .dataframe tbody tr th:only-of-type {\n",
       "        vertical-align: middle;\n",
       "    }\n",
       "\n",
       "    .dataframe tbody tr th {\n",
       "        vertical-align: top;\n",
       "    }\n",
       "\n",
       "    .dataframe thead th {\n",
       "        text-align: right;\n",
       "    }\n",
       "</style>\n",
       "<table border=\"1\" class=\"dataframe\">\n",
       "  <thead>\n",
       "    <tr style=\"text-align: right;\">\n",
       "      <th></th>\n",
       "      <th>10003635611094380</th>\n",
       "      <th>10004720045874964</th>\n",
       "      <th>1001028632269369</th>\n",
       "      <th>10010655538773050</th>\n",
       "      <th>10015318526673339</th>\n",
       "      <th>10024678223369138</th>\n",
       "      <th>10027964074616847</th>\n",
       "      <th>10037738676082438</th>\n",
       "      <th>10050041161472983</th>\n",
       "      <th>10051463019381655</th>\n",
       "      <th>...</th>\n",
       "      <th>992451469208530</th>\n",
       "      <th>9928338016035068</th>\n",
       "      <th>9928884930019290</th>\n",
       "      <th>9953148855456071</th>\n",
       "      <th>9966785605665857</th>\n",
       "      <th>9974500342032401</th>\n",
       "      <th>9975414403431168</th>\n",
       "      <th>9987920310021958</th>\n",
       "      <th>9990139941134371</th>\n",
       "      <th>9994816441327197</th>\n",
       "    </tr>\n",
       "  </thead>\n",
       "  <tbody>\n",
       "    <tr>\n",
       "      <th>CP001071.1</th>\n",
       "      <td>0.018627</td>\n",
       "      <td>0.018627</td>\n",
       "      <td>0.018627</td>\n",
       "      <td>0.018627</td>\n",
       "      <td>0.018627</td>\n",
       "      <td>0.018627</td>\n",
       "      <td>0.018627</td>\n",
       "      <td>0.018627</td>\n",
       "      <td>0.018627</td>\n",
       "      <td>0.018627</td>\n",
       "      <td>...</td>\n",
       "      <td>0.018627</td>\n",
       "      <td>0.018627</td>\n",
       "      <td>0.018627</td>\n",
       "      <td>0.018627</td>\n",
       "      <td>0.018627</td>\n",
       "      <td>0.018627</td>\n",
       "      <td>0.018627</td>\n",
       "      <td>0.018627</td>\n",
       "      <td>0.018627</td>\n",
       "      <td>0.018627</td>\n",
       "    </tr>\n",
       "    <tr>\n",
       "      <th>NC_009661.1</th>\n",
       "      <td>0.000000</td>\n",
       "      <td>0.000000</td>\n",
       "      <td>0.000000</td>\n",
       "      <td>0.000000</td>\n",
       "      <td>0.000000</td>\n",
       "      <td>0.000000</td>\n",
       "      <td>0.000000</td>\n",
       "      <td>0.000000</td>\n",
       "      <td>0.000000</td>\n",
       "      <td>0.000000</td>\n",
       "      <td>...</td>\n",
       "      <td>0.000000</td>\n",
       "      <td>0.000000</td>\n",
       "      <td>0.000000</td>\n",
       "      <td>0.000000</td>\n",
       "      <td>0.000000</td>\n",
       "      <td>0.000000</td>\n",
       "      <td>0.000000</td>\n",
       "      <td>0.000000</td>\n",
       "      <td>0.000000</td>\n",
       "      <td>0.000000</td>\n",
       "    </tr>\n",
       "    <tr>\n",
       "      <th>NC_011665.1</th>\n",
       "      <td>0.000000</td>\n",
       "      <td>0.000000</td>\n",
       "      <td>0.000000</td>\n",
       "      <td>0.000000</td>\n",
       "      <td>0.000000</td>\n",
       "      <td>0.000000</td>\n",
       "      <td>0.000000</td>\n",
       "      <td>0.000000</td>\n",
       "      <td>0.000000</td>\n",
       "      <td>0.000000</td>\n",
       "      <td>...</td>\n",
       "      <td>0.000000</td>\n",
       "      <td>0.000000</td>\n",
       "      <td>0.000000</td>\n",
       "      <td>0.000000</td>\n",
       "      <td>0.000000</td>\n",
       "      <td>0.000000</td>\n",
       "      <td>0.000000</td>\n",
       "      <td>0.000000</td>\n",
       "      <td>0.000000</td>\n",
       "      <td>0.000000</td>\n",
       "    </tr>\n",
       "  </tbody>\n",
       "</table>\n",
       "<p>3 rows × 2819 columns</p>\n",
       "</div>"
      ],
      "text/plain": [
       "             10003635611094380  10004720045874964  1001028632269369  \\\n",
       "CP001071.1            0.018627           0.018627          0.018627   \n",
       "NC_009661.1           0.000000           0.000000          0.000000   \n",
       "NC_011665.1           0.000000           0.000000          0.000000   \n",
       "\n",
       "             10010655538773050  10015318526673339  10024678223369138  \\\n",
       "CP001071.1            0.018627           0.018627           0.018627   \n",
       "NC_009661.1           0.000000           0.000000           0.000000   \n",
       "NC_011665.1           0.000000           0.000000           0.000000   \n",
       "\n",
       "             10027964074616847  10037738676082438  10050041161472983  \\\n",
       "CP001071.1            0.018627           0.018627           0.018627   \n",
       "NC_009661.1           0.000000           0.000000           0.000000   \n",
       "NC_011665.1           0.000000           0.000000           0.000000   \n",
       "\n",
       "             10051463019381655  ...  992451469208530  9928338016035068  \\\n",
       "CP001071.1            0.018627  ...         0.018627          0.018627   \n",
       "NC_009661.1           0.000000  ...         0.000000          0.000000   \n",
       "NC_011665.1           0.000000  ...         0.000000          0.000000   \n",
       "\n",
       "             9928884930019290  9953148855456071  9966785605665857  \\\n",
       "CP001071.1           0.018627          0.018627          0.018627   \n",
       "NC_009661.1          0.000000          0.000000          0.000000   \n",
       "NC_011665.1          0.000000          0.000000          0.000000   \n",
       "\n",
       "             9974500342032401  9975414403431168  9987920310021958  \\\n",
       "CP001071.1           0.018627          0.018627          0.018627   \n",
       "NC_009661.1          0.000000          0.000000          0.000000   \n",
       "NC_011665.1          0.000000          0.000000          0.000000   \n",
       "\n",
       "             9990139941134371  9994816441327197  \n",
       "CP001071.1           0.018627          0.018627  \n",
       "NC_009661.1          0.000000          0.000000  \n",
       "NC_011665.1          0.000000          0.000000  \n",
       "\n",
       "[3 rows x 2819 columns]"
      ]
     },
     "execution_count": 33,
     "metadata": {},
     "output_type": "execute_result"
    }
   ],
   "source": [
    "i = pd.DataFrame(X.todense(), columns=vectorizer.get_feature_names_out(), index=sample_names)\n"
   ]
  },
  {
   "cell_type": "code",
   "execution_count": 35,
   "id": "3964ef26-f6f2-4572-9f69-6cb363d04c7b",
   "metadata": {},
   "outputs": [
    {
     "data": {
      "text/plain": [
       "<Compressed Sparse Row sparse matrix of dtype 'int64'\n",
       "\twith 2862 stored elements and shape (3, 2819)>"
      ]
     },
     "execution_count": 35,
     "metadata": {},
     "output_type": "execute_result"
    }
   ],
   "source": [
    "count_vectorizer = CountVectorizer()\n",
    "X_counts = count_vectorizer.fit_transform(corpus)\n",
    "X_counts"
   ]
  },
  {
   "cell_type": "code",
   "execution_count": null,
   "id": "41a96ae7-d8d0-4cc2-9e02-11a373204d1a",
   "metadata": {},
   "outputs": [],
   "source": []
  }
 ],
 "metadata": {
  "kernelspec": {
   "display_name": "Python 3 (ipykernel)",
   "language": "python",
   "name": "python3"
  },
  "language_info": {
   "codemirror_mode": {
    "name": "ipython",
    "version": 3
   },
   "file_extension": ".py",
   "mimetype": "text/x-python",
   "name": "python",
   "nbconvert_exporter": "python",
   "pygments_lexer": "ipython3",
   "version": "3.12.6"
  }
 },
 "nbformat": 4,
 "nbformat_minor": 5
}
