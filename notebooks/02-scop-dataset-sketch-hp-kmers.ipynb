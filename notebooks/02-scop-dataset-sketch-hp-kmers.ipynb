{
 "cells": [
  {
   "cell_type": "markdown",
   "id": "f7f710d9-d1e5-4a05-b0e6-7e314af92477",
   "metadata": {},
   "source": [
    "# Create k-mer sketches of SCOPe 40 dataset"
   ]
  },
  {
   "cell_type": "code",
   "execution_count": 1,
   "id": "913e9c30-eb86-4f47-9f52-ee5a6696bc2d",
   "metadata": {},
   "outputs": [
    {
     "name": "stdout",
     "output_type": "stream",
     "text": [
      "Writing ../testdata/scop.e.40.manysketch.csv\n"
     ]
    }
   ],
   "source": [
    "%%file ../testdata/scop.e.40.manysketch.csv\n",
    "name,genome_filename,protein_filename\n",
    "SCOPe40-2.08,,../testdata/astral-scopedom-seqres-gd-sel-gs-bib-40-2.08.fa"
   ]
  },
  {
   "cell_type": "code",
   "execution_count": 5,
   "id": "cc11ff3b-bff7-427f-afd8-a4677ae32f28",
   "metadata": {},
   "outputs": [
    {
     "name": "stdout",
     "output_type": "stream",
     "text": [
      "\u001b[K\n",
      "== This is sourmash version 4.8.11. ==\n",
      "\u001b[K== Please cite Irber et. al (2024), doi:10.21105/joss.06830. ==\n",
      "\n",
      "usage:  manysketch [-h] [-q] [-d] -o OUTPUT [-p PARAM_STRING] [-c CORES] [-s]\n",
      "                   [-f]\n",
      "                   fromfile_csv\n",
      "\n",
      "massively parallel sketching\n",
      "\n",
      "positional arguments:\n",
      "  fromfile_csv          a csv file containing paths to FASTA files. Columns\n",
      "                        must be: 'name,genome_filename,protein_filename' or\n",
      "                        'name,read1,read2'\n",
      "\n",
      "options:\n",
      "  -h, --help            show this help message and exit\n",
      "  -q, --quiet           suppress non-error output\n",
      "  -d, --debug           provide debugging output\n",
      "  -o OUTPUT, --output OUTPUT\n",
      "                        output zip file for the signatures\n",
      "  -p PARAM_STRING, --param-string PARAM_STRING\n",
      "                        parameter string for sketching (default:\n",
      "                        k=31,scaled=1000)\n",
      "  -c CORES, --cores CORES\n",
      "                        number of cores to use (default is all available)\n",
      "  -s, --singleton       build one sketch per FASTA record, i.e. multiple\n",
      "                        sketches per FASTA file\n",
      "  -f, --force           allow use of individual FASTA files in more than more\n",
      "                        sketch\n"
     ]
    }
   ],
   "source": [
    "! sourmash scripts manysketch --help"
   ]
  },
  {
   "cell_type": "markdown",
   "id": "65733668-ebaa-4254-b9b6-6381a5fe3519",
   "metadata": {},
   "source": [
    "### Manysketch doesn't yet support protein\n",
    "\n",
    "```\n",
    "== This is sourmash version 4.8.11. ==\n",
    "== Please cite Irber et. al (2024), doi:10.21105/joss.06830. ==\n",
    "\n",
    "=> sourmash_plugin_branchwater 0.9.7; cite Irber et al., doi: 10.1101/2022.11.02.514947\n",
    "\n",
    "params: ['hp,k=24,scaled=1']\n",
    "sketching all files in '../testdata/scop.e.40.manysketch.csv' using 8 threads\n",
    "Loaded 1 rows in total (0 genome and 1 protein files)\n",
    "Error parsing params string: unknown component 'hp' in params string\n",
    "Error: Failed to parse params string\n",
    "```"
   ]
  },
  {
   "cell_type": "code",
   "execution_count": 7,
   "id": "05b4b092-91b1-44e7-9347-214ece5c9d59",
   "metadata": {},
   "outputs": [],
   "source": [
    "# ! sourmash scripts manysketch \\\n",
    "#     -p hp,k=24,scaled=1 \\\n",
    "#     --singleton \\\n",
    "#     --output ../testdata/astral-scopedom-seqres-gd-sel-gs-bib-40-2.08.hp.k24.sig.zip \\\n",
    "#     ../testdata/scop.e.40.manysketch.csv"
   ]
  },
  {
   "cell_type": "code",
   "execution_count": 19,
   "id": "3501a64e-f59a-400d-be7f-eacaffe0ac5e",
   "metadata": {},
   "outputs": [
    {
     "name": "stdout",
     "output_type": "stream",
     "text": [
      "\u001b[K\n",
      "== This is sourmash version 4.8.11. ==\n",
      "\u001b[K== Please cite Irber et. al (2024), doi:10.21105/joss.06830. ==\n",
      "\n",
      "\u001b[KWARNING: scaled value should be >= 100. Continuing anyway.\n",
      "\u001b[Kcomputing signatures for files: ../testdata/astral-scopedom-seqres-gd-sel-gs-bib-40-2.08.fa\n",
      "\u001b[KComputing a total of 1 signature(s) for each input.\n",
      "\u001b[Kcalculated 15177 signatures for 15177 sequences in ../testdata/astral-scopedom-seqres-gd-sel-gs-bib-40-2.08.fa\n",
      "\u001b[Ksaved 15177 signature(s) to 'astral-scopedom-seqres-gd-sel-gs-bib-40-2.08.hp.k24.sig.zip'. Note: signature license is CC0.\n"
     ]
    }
   ],
   "source": [
    "! sourmash sketch protein \\\n",
    "    -p hp,k=24,scaled=1 \\\n",
    "    --singleton \\\n",
    "    --output astral-scopedom-seqres-gd-sel-gs-bib-40-2.08.hp.k24.sig.zip \\\n",
    "    ../testdata/astral-scopedom-seqres-gd-sel-gs-bib-40-2.08.fa"
   ]
  },
  {
   "cell_type": "code",
   "execution_count": 8,
   "id": "db0a0ebe-d82c-4077-8489-2246fd468abd",
   "metadata": {},
   "outputs": [
    {
     "name": "stdout",
     "output_type": "stream",
     "text": [
      "\u001b[K\n",
      "== This is sourmash version 4.8.11. ==\n",
      "\u001b[K== Please cite Irber et. al (2024), doi:10.21105/joss.06830. ==\n",
      "\n",
      "usage: \n",
      "\n",
      "### `sourmash signature kmers` - extract k-mers and/or sequences that match to signatures\n",
      "\n",
      "Given one or more compatible sketches and some sequence files, extract\n",
      "the k-mers and/or sequences corresponding to the hash values in the\n",
      "sketch. Because the sourmash hash function is one-way, this requires\n",
      "FASTA or FASTQ sequence files in addition to the sketch.\n",
      "\n",
      "For example,\n",
      "\n",
      "sourmash sig kmers --signatures sig1.sig --sequences seqfile.fasta     --save-sequences matches.fasta --save-kmers kmer-matches.csv\n",
      "\n",
      "will search `seqfile.fasta` for matching sequences and k-mers,\n",
      "and produce two files. The file `matches.fasta` will contain FASTA\n",
      "sequences that match the hashes in the input signature, while the\n",
      "file `kmer-matches.csv` provides the matching k-mers and hash values,\n",
      "together with their originating filename and sequence name.\n",
      "\n",
      "If the sketch is a protein sketch (protein, dayhoff, or hp), then\n",
      "the input sequences are assumed to be protein. To search DNA sequences\n",
      "for translated protein hashes, provide the `--translate` flag to `sig kmers`.\n",
      "\n",
      "`--save-sequences` and `--save-kmers` are both optional.  If neither are\n",
      "given, basic statistics on k-mer matching are given.\n",
      "\n",
      "Please note that `--save-kmers` can be very slow on large files!\n",
      "\n",
      "The input sketches are the source of the input hashes.  So, for example,\n",
      "If `--scaled=1` sketches are provided, `sig kmers` can be used to\n",
      "yield all the k-mers and their matching hashes.  Likewise, if the\n",
      "sketch is built from the intersection of two other sketches, only\n",
      "the k-mers and hash values present in both sketches will be used.\n",
      "\n",
      "Likewise, the input sequences are used for matching; they do not need\n",
      "to be the same sequences that were used to create the sketches.\n",
      "Input sequences can be in FASTA or FASTQ format, and either flat text\n",
      "or compressed with gzip or bzip2; formats are auto-detected.\n",
      "\n",
      "By default, `sig kmers` ignores bad k-mers (e.g. non-ACGT characters\n",
      "in DNA). If `--check-sequence` is provided, `sig kmers` will error\n",
      "exit on the first bad k-mer.  If `--check-sequence --force` is provided,\n",
      "`sig kmers` will provide error messages (and skip bad sequences), but\n",
      "will continue processing input sequences.\n",
      "\n",
      "show k-mers/sequences matching the signature hashes\n",
      "\n",
      "options:\n",
      "  -h, --help            show this help message and exit\n",
      "  --signatures [SIGNATURES ...]\n",
      "  -q, --quiet           suppress non-error output\n",
      "  -f, --force           try to load all files as signatures\n",
      "  --from-file FROM_FILE\n",
      "                        a text file containing a list of files to load\n",
      "                        signatures from\n",
      "  -k K, --ksize K       k-mer size to select; no default.\n",
      "  --protein             choose a protein signature; by default, a nucleotide\n",
      "                        signature is used\n",
      "  --no-protein          do not choose a protein signature\n",
      "  --dayhoff             choose Dayhoff-encoded amino acid signatures\n",
      "  --no-dayhoff          do not choose Dayhoff-encoded amino acid signatures\n",
      "  --hp, --hydrophobic-polar\n",
      "                        choose hydrophobic-polar-encoded amino acid signatures\n",
      "  --no-hp, --no-hydrophobic-polar\n",
      "                        do not choose hydrophobic-polar-encoded amino acid\n",
      "                        signatures\n",
      "  --dna, --rna, --nucleotide\n",
      "                        choose a nucleotide signature (default: True)\n",
      "  --no-dna, --no-rna, --no-nucleotide\n",
      "                        do not choose a nucleotide signature\n",
      "  --picklist PICKLIST   select signatures based on a picklist, i.e.\n",
      "                        'file.csv:colname:coltype'\n",
      "  --picklist-require-all\n",
      "                        require that all picklist values be found or else fail\n",
      "  --sequences SEQUENCES [SEQUENCES ...]\n",
      "                        FASTA/FASTQ/bz2/gz files with sequences\n",
      "  --save-kmers SAVE_KMERS\n",
      "                        save k-mers and hash values to a CSV file\n",
      "  --save-sequences SAVE_SEQUENCES\n",
      "                        save sequences with matching hashes to a FASTA file\n",
      "  --translate           translate DNA k-mers into amino acids (for protein,\n",
      "                        dayhoff, and hp sketches)\n",
      "  --check-sequence      complain if input sequence is invalid (NOTE: only\n",
      "                        checks DNA)\n"
     ]
    }
   ],
   "source": [
    "! sourmash sig kmers --help"
   ]
  },
  {
   "cell_type": "code",
   "execution_count": null,
   "id": "c38c020e-325c-4a6f-9216-693afabf34ec",
   "metadata": {},
   "outputs": [
    {
     "name": "stdout",
     "output_type": "stream",
     "text": [
      "\u001b[K\n",
      "== This is sourmash version 4.8.11. ==\n",
      "\u001b[K== Please cite Irber et. al (2024), doi:10.21105/joss.06830. ==\n",
      "\n",
      "\u001b[Kloaded 15177 signatures total, from 1 filesom-seqres-gd-sel-gs-bib-40-2.08.hp.k24.sig.zip'\n",
      "\u001b[Kloaded and merged 15177 signatures\n",
      "\u001b[K\n",
      "\u001b[Kmerged signature has the following properties:\n",
      "\u001b[Kk=24 molecule=hp num=0 scaled=1 seed=42\n",
      "\u001b[Ktotal hashes in merged signature: 2246789\n",
      "\u001b[K\n",
      "\u001b[Know processing sequence files for matches!\n",
      "\u001b[Kopening sequence file '../testdata/astral-scopedom-seqres-gd-sel-gs-bib-40-2.08.fa'\n"
     ]
    }
   ],
   "source": [
    "! sourmash sig kmers \\\n",
    "    --signatures astral-scopedom-seqres-gd-sel-gs-bib-40-2.08.hp.k24.sig.zip \\\n",
    "    --sequences ../testdata/astral-scopedom-seqres-gd-sel-gs-bib-40-2.08.fa \\\n",
    "    --hp --ksize 24 \\\n",
    "    --save-kmers ../testdata/astral-scopedom-seqres-gd-sel-gs-bib-40-2.08.kmers.csv"
   ]
  },
  {
   "cell_type": "markdown",
   "id": "69a16b73-d177-4c45-a9b4-d78691a27b1f",
   "metadata": {},
   "source": [
    "### Do an all-by-all search"
   ]
  },
  {
   "cell_type": "code",
   "execution_count": null,
   "id": "a23d8ffc-11fc-4ad0-9ad8-7fc8aecb9347",
   "metadata": {},
   "outputs": [],
   "source": [
    "! time RUST_BACKTRACE=full RUST_LOG=trace sourmash scripts multisearch \\\n",
    "    --threshold 0 \\\n",
    "    --output ../testdata/astral-scopedom-seqres-gd-sel-gs-bib-40-2.08.hp.k24.manysearch.csv \\\n",
    "    -k 24 -m hp --scaled 1 \\\n",
    "    astral-scopedom-seqres-gd-sel-gs-bib-40-2.08.hp.k24.sig.zip \\\n",
    "    astral-scopedom-seqres-gd-sel-gs-bib-40-2.08.hp.k24.sig.zip"
   ]
  },
  {
   "cell_type": "code",
   "execution_count": null,
   "id": "7479b370-960b-4a3b-8944-2c9fdd62f3f0",
   "metadata": {},
   "outputs": [],
   "source": []
  }
 ],
 "metadata": {
  "kernelspec": {
   "display_name": "Python 3 (ipykernel)",
   "language": "python",
   "name": "python3"
  },
  "language_info": {
   "codemirror_mode": {
    "name": "ipython",
    "version": 3
   },
   "file_extension": ".py",
   "mimetype": "text/x-python",
   "name": "python",
   "nbconvert_exporter": "python",
   "pygments_lexer": "ipython3",
   "version": "3.12.6"
  }
 },
 "nbformat": 4,
 "nbformat_minor": 5
}
